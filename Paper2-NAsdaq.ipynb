{
 "cells": [
  {
   "cell_type": "markdown",
   "metadata": {},
   "source": [
    "# Przewidywanie cen indeksów NDQ za pomocą analizy technicznej i ML"
   ]
  },
  {
   "cell_type": "markdown",
   "metadata": {},
   "source": [
    "## 1. Wstęp\n",
    "W tym notebooku spróbuję użyć analizy techniczej i różnych technik uczenia maszynowego by przewidywać ceny futursa na indeks giełdowy SPY500. Będę głównie wzorował się na artykule: https://arxiv.org/pdf/1706.00948.pdf. Dalej będę się do niego odwoływał jako do Artykułu 1."
   ]
  },
  {
   "cell_type": "markdown",
   "metadata": {},
   "source": [
    "## 2. Dane\n",
    "Dane biorę ze strony https://stooq.pl/q/d/?s=es.f skąd można za darmo pobrać dniowe dane dotyczące futursa na indeks SPY500. W danych mamy cenę otwarcia(Open), najwyższą(High), najniższą(Low) i zamknięcia(Close) oraz wolumen i liczbę otwartych pozycji(LOP). Dane są za lata 1998-2017."
   ]
  },
  {
   "cell_type": "markdown",
   "metadata": {},
   "source": [
    "## 3.Data preprocessing\n",
    "Za pomocą danych stworze 9 wskaźników analizy techniczej użytych w Artykule 1: <br>\n",
    "1)Oscylator stochastyczny <br>\n",
    "2)Momentum <br>\n",
    "3)ROC <br>\n",
    "4)WillR% <br>\n",
    "5)Disp5 <br>\n",
    "6)Disp10 <br>\n",
    "7)OSCP <br>\n",
    "8)RSI <br>\n",
    "9)CCI <br>\n",
    "Po dokładny opis każdego wskaźnika odsyłam do artykułu 1, lub do https://en.wikipedia.org/wiki/Technical_analysis.<br>\n",
    "Wskaźniki stworzę przy pomocy biblioteki TA-LIB(https://github.com/mrjbq7/ta-lib) <br>\n",
    "Usunę również początkowe kolumny, by nasze przewidywania opierać tylko i wyłącznie na tych wskaźnikach.<br>\n",
    "Jako zmienną celu wezmę zwrot w przeciągu 1, 3 i 5 dni."
   ]
  },
  {
   "cell_type": "code",
   "execution_count": 32,
   "metadata": {
    "ExecuteTime": {
     "end_time": "2017-12-02T10:31:01.668859Z",
     "start_time": "2017-12-02T10:31:01.597331Z"
    },
    "collapsed": true,
    "hide_input": false
   },
   "outputs": [],
   "source": [
    "def addTechnicalFeatures(df):\n",
    "    df['Data'] = pd.to_datetime(df['Data'])\n",
    "    df.columns = ['Data', 'Open','High', 'Low', 'Close', 'Wol', \"Lop\"]\n",
    "    #Wskazniki analizy technicznej\n",
    "    k, dfast = talib.STOCH(np.array(df['High']),np.array(df['Low']),\n",
    "                           np.array(df['Close'])) # uses high, low, close by default\n",
    "    df['k'] = k\n",
    "    df['dfast'] = dfast\n",
    "    df['dslow'] = talib.SMA(dfast, timeperiod=5)\n",
    "    df['momentum'] = talib.MOM(np.array(df['Close']), timeperiod=4)\n",
    "    df['roc'] = talib.ROC(np.array(df['Close']), timeperiod=5)\n",
    "    df['willR'] = talib.WILLR(np.array(df['High']), np.array(df['Low']),\n",
    "                        np.array(df['Close']), timeperiod = 5)\n",
    "    #ad = talib.ADOSC(np.array(df['High']), np.array(df['Low']),\n",
    "    #                          np.array(df['Close']), np.array(df['Wol']))\n",
    "    df['disp5'] = df['Close'] / talib.SMA(np.array(df['Close']), 5) * 100\n",
    "    df['disp10'] = df['Close'] / talib.SMA(np.array(df['Close']), 10) * 100\n",
    "    df['oscp'] = ((talib.SMA(np.array(df['Close']), 5) - talib.SMA(np.array(df['Close']), 10)) / \n",
    "                                                        talib.SMA(np.array(df['Close']), 5)) \n",
    "    df['rsi'] = talib.RSI(np.array(df['Close']))\n",
    "    df['CCI'] = talib.CCI(np.array(df['High']),np.array(df['Low']), np.array(df['Close']))\n",
    "    #Tworzenie zmiennej celu\n",
    "    df['target1'] = df['Close'].shift(-1) -df['Open']\n",
    "    df['target5'] = df['Close'].shift(-5) -df['Open']\n",
    "    df['target3'] = df['Close'].shift(-3) -df['Open']\n",
    "    #zostawienie tylko zmiennej celu i wskaźników technicznych\n",
    "    df.drop(['Data','Open', 'High', 'Low', 'Close', 'Wol', 'Lop'],axis=1, inplace=True)\n",
    "    return df"
   ]
  },
  {
   "cell_type": "code",
   "execution_count": 33,
   "metadata": {
    "ExecuteTime": {
     "end_time": "2017-12-02T10:31:02.033823Z",
     "start_time": "2017-12-02T10:31:01.988516Z"
    }
   },
   "outputs": [
    {
     "data": {
      "text/html": [
       "<div>\n",
       "<style>\n",
       "    .dataframe thead tr:only-child th {\n",
       "        text-align: right;\n",
       "    }\n",
       "\n",
       "    .dataframe thead th {\n",
       "        text-align: left;\n",
       "    }\n",
       "\n",
       "    .dataframe tbody tr th {\n",
       "        vertical-align: top;\n",
       "    }\n",
       "</style>\n",
       "<table border=\"1\" class=\"dataframe\">\n",
       "  <thead>\n",
       "    <tr style=\"text-align: right;\">\n",
       "      <th></th>\n",
       "      <th>k</th>\n",
       "      <th>dfast</th>\n",
       "      <th>dslow</th>\n",
       "      <th>momentum</th>\n",
       "      <th>roc</th>\n",
       "      <th>willR</th>\n",
       "      <th>disp5</th>\n",
       "      <th>disp10</th>\n",
       "      <th>oscp</th>\n",
       "      <th>rsi</th>\n",
       "      <th>CCI</th>\n",
       "      <th>target1</th>\n",
       "      <th>target5</th>\n",
       "      <th>target3</th>\n",
       "    </tr>\n",
       "  </thead>\n",
       "  <tbody>\n",
       "    <tr>\n",
       "      <th>0</th>\n",
       "      <td>NaN</td>\n",
       "      <td>NaN</td>\n",
       "      <td>NaN</td>\n",
       "      <td>NaN</td>\n",
       "      <td>NaN</td>\n",
       "      <td>NaN</td>\n",
       "      <td>NaN</td>\n",
       "      <td>NaN</td>\n",
       "      <td>NaN</td>\n",
       "      <td>NaN</td>\n",
       "      <td>NaN</td>\n",
       "      <td>-52.5</td>\n",
       "      <td>-31.5</td>\n",
       "      <td>-77.0</td>\n",
       "    </tr>\n",
       "    <tr>\n",
       "      <th>1</th>\n",
       "      <td>NaN</td>\n",
       "      <td>NaN</td>\n",
       "      <td>NaN</td>\n",
       "      <td>NaN</td>\n",
       "      <td>NaN</td>\n",
       "      <td>NaN</td>\n",
       "      <td>NaN</td>\n",
       "      <td>NaN</td>\n",
       "      <td>NaN</td>\n",
       "      <td>NaN</td>\n",
       "      <td>NaN</td>\n",
       "      <td>16.5</td>\n",
       "      <td>51.5</td>\n",
       "      <td>-51.5</td>\n",
       "    </tr>\n",
       "    <tr>\n",
       "      <th>2</th>\n",
       "      <td>NaN</td>\n",
       "      <td>NaN</td>\n",
       "      <td>NaN</td>\n",
       "      <td>NaN</td>\n",
       "      <td>NaN</td>\n",
       "      <td>NaN</td>\n",
       "      <td>NaN</td>\n",
       "      <td>NaN</td>\n",
       "      <td>NaN</td>\n",
       "      <td>NaN</td>\n",
       "      <td>NaN</td>\n",
       "      <td>-41.0</td>\n",
       "      <td>68.0</td>\n",
       "      <td>4.5</td>\n",
       "    </tr>\n",
       "    <tr>\n",
       "      <th>3</th>\n",
       "      <td>NaN</td>\n",
       "      <td>NaN</td>\n",
       "      <td>NaN</td>\n",
       "      <td>NaN</td>\n",
       "      <td>NaN</td>\n",
       "      <td>NaN</td>\n",
       "      <td>NaN</td>\n",
       "      <td>NaN</td>\n",
       "      <td>NaN</td>\n",
       "      <td>NaN</td>\n",
       "      <td>NaN</td>\n",
       "      <td>-27.0</td>\n",
       "      <td>127.5</td>\n",
       "      <td>76.0</td>\n",
       "    </tr>\n",
       "    <tr>\n",
       "      <th>4</th>\n",
       "      <td>NaN</td>\n",
       "      <td>NaN</td>\n",
       "      <td>NaN</td>\n",
       "      <td>-104.0</td>\n",
       "      <td>NaN</td>\n",
       "      <td>-83.2</td>\n",
       "      <td>97.788177</td>\n",
       "      <td>NaN</td>\n",
       "      <td>NaN</td>\n",
       "      <td>NaN</td>\n",
       "      <td>NaN</td>\n",
       "      <td>71.5</td>\n",
       "      <td>164.0</td>\n",
       "      <td>135.0</td>\n",
       "    </tr>\n",
       "  </tbody>\n",
       "</table>\n",
       "</div>"
      ],
      "text/plain": [
       "    k  dfast  dslow  momentum  roc  willR      disp5  disp10  oscp  rsi  CCI  \\\n",
       "0 NaN    NaN    NaN       NaN  NaN    NaN        NaN     NaN   NaN  NaN  NaN   \n",
       "1 NaN    NaN    NaN       NaN  NaN    NaN        NaN     NaN   NaN  NaN  NaN   \n",
       "2 NaN    NaN    NaN       NaN  NaN    NaN        NaN     NaN   NaN  NaN  NaN   \n",
       "3 NaN    NaN    NaN       NaN  NaN    NaN        NaN     NaN   NaN  NaN  NaN   \n",
       "4 NaN    NaN    NaN    -104.0  NaN  -83.2  97.788177     NaN   NaN  NaN  NaN   \n",
       "\n",
       "   target1  target5  target3  \n",
       "0    -52.5    -31.5    -77.0  \n",
       "1     16.5     51.5    -51.5  \n",
       "2    -41.0     68.0      4.5  \n",
       "3    -27.0    127.5     76.0  \n",
       "4     71.5    164.0    135.0  "
      ]
     },
     "execution_count": 33,
     "metadata": {},
     "output_type": "execute_result"
    }
   ],
   "source": [
    "import pandas as pd\n",
    "import numpy as np\n",
    "import talib\n",
    "from sklearn.externals import joblib\n",
    "import matplotlib.pyplot as plt\n",
    "df = pd.read_csv(\"/home/olaf/Finanse/nq_f_d.csv\")\n",
    "price = df['Otwarcie']\n",
    "df = addTechnicalFeatures(df)\n",
    "df.head()"
   ]
  },
  {
   "cell_type": "markdown",
   "metadata": {},
   "source": [
    "Jak widać w stworzenj bazie na początku mamy dużo NaNów, ponieważ często wskaźniki wykorzystują średnie z kilku ostatnich dni, co powoduje że dla pierwszych rekordów nie da się ich policzyć. Możemy je usunąc, gdyż nie wpłynie to znacząco na rozmiar bazy."
   ]
  },
  {
   "cell_type": "code",
   "execution_count": 34,
   "metadata": {
    "ExecuteTime": {
     "end_time": "2017-12-02T10:31:02.640789Z",
     "start_time": "2017-12-02T10:31:02.635015Z"
    },
    "collapsed": true
   },
   "outputs": [],
   "source": [
    "df.dropna(inplace=True, axis = 0)"
   ]
  },
  {
   "cell_type": "code",
   "execution_count": 35,
   "metadata": {
    "ExecuteTime": {
     "end_time": "2017-12-02T10:31:03.154896Z",
     "start_time": "2017-12-02T10:31:03.131956Z"
    }
   },
   "outputs": [
    {
     "data": {
      "text/html": [
       "<div>\n",
       "<style>\n",
       "    .dataframe thead tr:only-child th {\n",
       "        text-align: right;\n",
       "    }\n",
       "\n",
       "    .dataframe thead th {\n",
       "        text-align: left;\n",
       "    }\n",
       "\n",
       "    .dataframe tbody tr th {\n",
       "        vertical-align: top;\n",
       "    }\n",
       "</style>\n",
       "<table border=\"1\" class=\"dataframe\">\n",
       "  <thead>\n",
       "    <tr style=\"text-align: right;\">\n",
       "      <th></th>\n",
       "      <th>k</th>\n",
       "      <th>dfast</th>\n",
       "      <th>dslow</th>\n",
       "      <th>momentum</th>\n",
       "      <th>roc</th>\n",
       "      <th>willR</th>\n",
       "      <th>disp5</th>\n",
       "      <th>disp10</th>\n",
       "      <th>oscp</th>\n",
       "      <th>rsi</th>\n",
       "      <th>CCI</th>\n",
       "      <th>target1</th>\n",
       "      <th>target5</th>\n",
       "      <th>target3</th>\n",
       "    </tr>\n",
       "  </thead>\n",
       "  <tbody>\n",
       "    <tr>\n",
       "      <th>14</th>\n",
       "      <td>94.385965</td>\n",
       "      <td>83.901186</td>\n",
       "      <td>87.022135</td>\n",
       "      <td>27.5</td>\n",
       "      <td>2.163866</td>\n",
       "      <td>-0.000000</td>\n",
       "      <td>100.846087</td>\n",
       "      <td>102.329398</td>\n",
       "      <td>0.014495</td>\n",
       "      <td>64.441592</td>\n",
       "      <td>102.344060</td>\n",
       "      <td>-9.5</td>\n",
       "      <td>52.0</td>\n",
       "      <td>49.5</td>\n",
       "    </tr>\n",
       "    <tr>\n",
       "      <th>15</th>\n",
       "      <td>90.877193</td>\n",
       "      <td>88.654971</td>\n",
       "      <td>85.189266</td>\n",
       "      <td>36.0</td>\n",
       "      <td>0.748752</td>\n",
       "      <td>-20.000000</td>\n",
       "      <td>100.302315</td>\n",
       "      <td>101.355875</td>\n",
       "      <td>0.010395</td>\n",
       "      <td>62.792264</td>\n",
       "      <td>82.869918</td>\n",
       "      <td>40.5</td>\n",
       "      <td>-41.0</td>\n",
       "      <td>49.0</td>\n",
       "    </tr>\n",
       "    <tr>\n",
       "      <th>16</th>\n",
       "      <td>93.333333</td>\n",
       "      <td>92.865497</td>\n",
       "      <td>85.546920</td>\n",
       "      <td>46.5</td>\n",
       "      <td>3.206203</td>\n",
       "      <td>-0.000000</td>\n",
       "      <td>101.337449</td>\n",
       "      <td>102.431314</td>\n",
       "      <td>0.010679</td>\n",
       "      <td>66.704640</td>\n",
       "      <td>116.094703</td>\n",
       "      <td>18.5</td>\n",
       "      <td>-68.5</td>\n",
       "      <td>21.0</td>\n",
       "    </tr>\n",
       "    <tr>\n",
       "      <th>17</th>\n",
       "      <td>93.333333</td>\n",
       "      <td>92.514620</td>\n",
       "      <td>87.393343</td>\n",
       "      <td>63.0</td>\n",
       "      <td>2.690397</td>\n",
       "      <td>-0.000000</td>\n",
       "      <td>101.555465</td>\n",
       "      <td>102.645787</td>\n",
       "      <td>0.010622</td>\n",
       "      <td>68.342172</td>\n",
       "      <td>125.681108</td>\n",
       "      <td>-10.0</td>\n",
       "      <td>-173.0</td>\n",
       "      <td>-100.0</td>\n",
       "    </tr>\n",
       "    <tr>\n",
       "      <th>18</th>\n",
       "      <td>90.864198</td>\n",
       "      <td>92.510288</td>\n",
       "      <td>90.089312</td>\n",
       "      <td>39.5</td>\n",
       "      <td>2.191894</td>\n",
       "      <td>-27.407407</td>\n",
       "      <td>100.709162</td>\n",
       "      <td>101.804548</td>\n",
       "      <td>0.010760</td>\n",
       "      <td>66.440004</td>\n",
       "      <td>105.092838</td>\n",
       "      <td>32.0</td>\n",
       "      <td>-142.5</td>\n",
       "      <td>-57.5</td>\n",
       "    </tr>\n",
       "  </tbody>\n",
       "</table>\n",
       "</div>"
      ],
      "text/plain": [
       "            k      dfast      dslow  momentum       roc      willR  \\\n",
       "14  94.385965  83.901186  87.022135      27.5  2.163866  -0.000000   \n",
       "15  90.877193  88.654971  85.189266      36.0  0.748752 -20.000000   \n",
       "16  93.333333  92.865497  85.546920      46.5  3.206203  -0.000000   \n",
       "17  93.333333  92.514620  87.393343      63.0  2.690397  -0.000000   \n",
       "18  90.864198  92.510288  90.089312      39.5  2.191894 -27.407407   \n",
       "\n",
       "         disp5      disp10      oscp        rsi         CCI  target1  target5  \\\n",
       "14  100.846087  102.329398  0.014495  64.441592  102.344060     -9.5     52.0   \n",
       "15  100.302315  101.355875  0.010395  62.792264   82.869918     40.5    -41.0   \n",
       "16  101.337449  102.431314  0.010679  66.704640  116.094703     18.5    -68.5   \n",
       "17  101.555465  102.645787  0.010622  68.342172  125.681108    -10.0   -173.0   \n",
       "18  100.709162  101.804548  0.010760  66.440004  105.092838     32.0   -142.5   \n",
       "\n",
       "    target3  \n",
       "14     49.5  \n",
       "15     49.0  \n",
       "16     21.0  \n",
       "17   -100.0  \n",
       "18    -57.5  "
      ]
     },
     "execution_count": 35,
     "metadata": {},
     "output_type": "execute_result"
    }
   ],
   "source": [
    "df.head()"
   ]
  },
  {
   "cell_type": "markdown",
   "metadata": {
    "ExecuteTime": {
     "end_time": "2017-11-26T18:30:22.584075Z",
     "start_time": "2017-11-26T18:30:22.581894Z"
    }
   },
   "source": [
    "Pozostaje jeszcze znormalizować dane."
   ]
  },
  {
   "cell_type": "code",
   "execution_count": 36,
   "metadata": {
    "ExecuteTime": {
     "end_time": "2017-12-02T10:31:03.829214Z",
     "start_time": "2017-12-02T10:31:03.823007Z"
    },
    "collapsed": true
   },
   "outputs": [],
   "source": [
    "from sklearn.preprocessing import MinMaxScaler\n",
    "X = df.drop(['target1','target3','target5'], axis=1)\n",
    "scaler = MinMaxScaler()\n",
    "X = scaler.fit_transform(X)"
   ]
  },
  {
   "cell_type": "code",
   "execution_count": 37,
   "metadata": {
    "ExecuteTime": {
     "end_time": "2017-12-02T10:31:04.319147Z",
     "start_time": "2017-12-02T10:31:04.177905Z"
    },
    "collapsed": true
   },
   "outputs": [],
   "source": [
    "pd.DataFrame(X).to_csv(\"daneAT.csv\")\n",
    "pd.DataFrame(df['target5']).to_csv('target.csv')"
   ]
  },
  {
   "cell_type": "markdown",
   "metadata": {},
   "source": [
    "Podział na dane trenignowe i testowe"
   ]
  },
  {
   "cell_type": "code",
   "execution_count": 38,
   "metadata": {
    "ExecuteTime": {
     "end_time": "2017-12-02T10:31:04.829705Z",
     "start_time": "2017-12-02T10:31:04.818636Z"
    },
    "collapsed": true
   },
   "outputs": [],
   "source": [
    "X_train = X[:-800]\n",
    "X_test = X[-800:]\n",
    "y1_train = df['target1'][:-800]\n",
    "y1_test = df['target1'][-800:]\n",
    "y3_train = df['target3'][:-800]\n",
    "y3_test = df['target3'][-800:]\n",
    "y5_train = df['target5'][:-800]\n",
    "y5_test = df['target5'][-800:]"
   ]
  },
  {
   "cell_type": "markdown",
   "metadata": {},
   "source": [
    "## 4.Modelowanie"
   ]
  },
  {
   "cell_type": "markdown",
   "metadata": {},
   "source": [
    "Kluczowym pytaniem podczas modelowania jest odpowiedź na pytanie jak będziemy mierzyć jakość naszych modeli. Według mnie najlepszym pomysłem jest stworzenie krzywej średniego zwrotu inwestycji na osi y oraz odsetek inwestycji na osi x zależnie od wybranego poziomu odcięcia."
   ]
  },
  {
   "cell_type": "markdown",
   "metadata": {},
   "source": [
    "## 4.1 Wybór modeli\n",
    "W naszej analizie wypróbuje model SVM, Random Forest i XGboost. Dodatkowo sprawdzę jak każdy model radzi sobie na różnych zmiennych celu(przewidywanie 1, 3 i 5 dni do przodu)."
   ]
  },
  {
   "cell_type": "markdown",
   "metadata": {},
   "source": [
    "Jako że dane mają charakter czasowy to próbkę podzieliłem ze względu na datę. Ostatnie 800 obserwacji(jakieś 3 lata) będzie danymi testowymi."
   ]
  },
  {
   "cell_type": "markdown",
   "metadata": {},
   "source": [
    "Napiszmy funkcję liczącą metrykę by móc potem łatwo porownywać modele."
   ]
  },
  {
   "cell_type": "code",
   "execution_count": 39,
   "metadata": {
    "ExecuteTime": {
     "end_time": "2017-12-02T10:31:06.374421Z",
     "start_time": "2017-12-02T10:31:06.352301Z"
    },
    "collapsed": true
   },
   "outputs": [],
   "source": [
    "from sklearn.metrics import auc\n",
    "def meanReturnCurve(y_true, y_pred):\n",
    "    thresholds = np.unique(y_pred)\n",
    "    meanReturn = []\n",
    "    percent = []\n",
    "    for thresh in thresholds:\n",
    "        meanReturn.append(np.mean(y_true[y_pred >= thresh]))\n",
    "        percent.append(sum(y_pred >= thresh)/len(y_pred))\n",
    "    return auc(percent, meanReturn)\n",
    "\n",
    "def plotMeanReturnCurve(y_true, y_pred, **kwargs):\n",
    "    thresholds = np.unique(y_pred)\n",
    "    meanReturn = []\n",
    "    percent = []\n",
    "    for thresh in thresholds:\n",
    "        meanReturn.append(np.mean(y_true[y_pred >= thresh]))\n",
    "        percent.append(sum(y_pred >= thresh)/len(y_pred))\n",
    "    return plt.plot(percent, meanReturn, **kwargs)\n",
    "\n"
   ]
  },
  {
   "cell_type": "markdown",
   "metadata": {},
   "source": [
    "## 4.2 Modelowanie"
   ]
  },
  {
   "cell_type": "markdown",
   "metadata": {},
   "source": [
    "### 4.1 SVM, RF i XGBoost "
   ]
  },
  {
   "cell_type": "markdown",
   "metadata": {
    "ExecuteTime": {
     "end_time": "2017-11-29T18:55:31.857296Z",
     "start_time": "2017-11-29T18:55:31.851293Z"
    }
   },
   "source": [
    "Poniżej porównamy wyniki SVM, Random Forest i XGBoost w przewidywaniu zwrotu w przeciągu 5 dni od zakupu futursa. "
   ]
  },
  {
   "cell_type": "code",
   "execution_count": 40,
   "metadata": {
    "ExecuteTime": {
     "end_time": "2017-12-02T10:31:07.521849Z",
     "start_time": "2017-12-02T10:31:07.518503Z"
    },
    "collapsed": true
   },
   "outputs": [],
   "source": [
    "from sklearn.svm import SVR\n",
    "svr = SVR(C=10, cache_size=200, coef0=0.0, degree=3, epsilon=1, gamma='auto',\n",
    "  kernel='linear', max_iter=-1, shrinking=True, tol=0.001, verbose=False)"
   ]
  },
  {
   "cell_type": "code",
   "execution_count": 41,
   "metadata": {
    "ExecuteTime": {
     "end_time": "2017-12-02T10:31:08.452503Z",
     "start_time": "2017-12-02T10:31:07.760166Z"
    }
   },
   "outputs": [
    {
     "data": {
      "text/plain": [
       "SVR(C=10, cache_size=200, coef0=0.0, degree=3, epsilon=1, gamma='auto',\n",
       "  kernel='linear', max_iter=-1, shrinking=True, tol=0.001, verbose=False)"
      ]
     },
     "execution_count": 41,
     "metadata": {},
     "output_type": "execute_result"
    }
   ],
   "source": [
    "svr.fit(X_train, y1_train)"
   ]
  },
  {
   "cell_type": "code",
   "execution_count": 42,
   "metadata": {
    "ExecuteTime": {
     "end_time": "2017-12-02T10:31:08.601579Z",
     "start_time": "2017-12-02T10:31:08.595197Z"
    },
    "collapsed": true
   },
   "outputs": [],
   "source": [
    "from sklearn.ensemble import RandomForestRegressor\n",
    "rf = RandomForestRegressor(bootstrap=True, criterion='mse', max_depth=6,\n",
    "           max_features=0.9, max_leaf_nodes=None,\n",
    "           min_impurity_decrease=0.0, min_impurity_split=None,\n",
    "           min_samples_leaf=0.03, min_samples_split=2,\n",
    "           min_weight_fraction_leaf=0.0, n_estimators=100, n_jobs=1,\n",
    "           oob_score=False, random_state=None, verbose=0, warm_start=False)"
   ]
  },
  {
   "cell_type": "code",
   "execution_count": 43,
   "metadata": {
    "ExecuteTime": {
     "end_time": "2017-12-02T10:31:08.777683Z",
     "start_time": "2017-12-02T10:31:08.770346Z"
    }
   },
   "outputs": [],
   "source": [
    "from xgboost import XGBRegressor\n",
    "xgb = XGBRegressor(base_score=0.5, colsample_bylevel=1, colsample_bytree=0.5,\n",
    "       gamma=0, learning_rate=0.1, max_delta_step=0, max_depth=2,\n",
    "       min_child_weight=1, missing=None, n_estimators=500, nthread=-1,\n",
    "       objective='reg:linear', reg_alpha=0, reg_lambda=1,\n",
    "       scale_pos_weight=1, seed=0, silent=True, subsample=1)"
   ]
  },
  {
   "cell_type": "code",
   "execution_count": 44,
   "metadata": {
    "ExecuteTime": {
     "end_time": "2017-12-02T10:31:09.670971Z",
     "start_time": "2017-12-02T10:31:08.974321Z"
    }
   },
   "outputs": [
    {
     "data": {
      "text/plain": [
       "SVR(C=10, cache_size=200, coef0=0.0, degree=3, epsilon=1, gamma='auto',\n",
       "  kernel='linear', max_iter=-1, shrinking=True, tol=0.001, verbose=False)"
      ]
     },
     "execution_count": 44,
     "metadata": {},
     "output_type": "execute_result"
    }
   ],
   "source": [
    "svr.fit(X_train, y5_train)"
   ]
  },
  {
   "cell_type": "code",
   "execution_count": 45,
   "metadata": {
    "ExecuteTime": {
     "end_time": "2017-12-02T10:31:15.513072Z",
     "start_time": "2017-12-02T10:31:09.835058Z"
    }
   },
   "outputs": [
    {
     "data": {
      "text/plain": [
       "48.584368141157185"
      ]
     },
     "execution_count": 45,
     "metadata": {},
     "output_type": "execute_result"
    }
   ],
   "source": [
    "meanReturnCurve(y5_test, svr.predict(X_test))"
   ]
  },
  {
   "cell_type": "code",
   "execution_count": 46,
   "metadata": {
    "ExecuteTime": {
     "end_time": "2017-12-02T10:31:16.595305Z",
     "start_time": "2017-12-02T10:31:15.647036Z"
    }
   },
   "outputs": [
    {
     "data": {
      "text/plain": [
       "RandomForestRegressor(bootstrap=True, criterion='mse', max_depth=6,\n",
       "           max_features=0.9, max_leaf_nodes=None,\n",
       "           min_impurity_decrease=0.0, min_impurity_split=None,\n",
       "           min_samples_leaf=0.03, min_samples_split=2,\n",
       "           min_weight_fraction_leaf=0.0, n_estimators=100, n_jobs=1,\n",
       "           oob_score=False, random_state=None, verbose=0, warm_start=False)"
      ]
     },
     "execution_count": 46,
     "metadata": {},
     "output_type": "execute_result"
    }
   ],
   "source": [
    "rf.fit(X_train, y5_train)"
   ]
  },
  {
   "cell_type": "code",
   "execution_count": 47,
   "metadata": {
    "ExecuteTime": {
     "end_time": "2017-12-02T10:31:20.795608Z",
     "start_time": "2017-12-02T10:31:16.753198Z"
    }
   },
   "outputs": [
    {
     "data": {
      "text/plain": [
       "53.828154421739811"
      ]
     },
     "execution_count": 47,
     "metadata": {},
     "output_type": "execute_result"
    }
   ],
   "source": [
    "meanReturnCurve(y5_test, rf.predict(X_test))"
   ]
  },
  {
   "cell_type": "code",
   "execution_count": 19,
   "metadata": {
    "ExecuteTime": {
     "end_time": "2017-12-02T09:09:27.343151Z",
     "start_time": "2017-12-02T09:09:25.428315Z"
    }
   },
   "outputs": [
    {
     "data": {
      "text/plain": [
       "XGBRegressor(base_score=0.5, colsample_bylevel=1, colsample_bytree=0.5,\n",
       "       gamma=0, learning_rate=0.1, max_delta_step=0, max_depth=2,\n",
       "       min_child_weight=1, missing=None, n_estimators=500, nthread=-1,\n",
       "       objective='reg:linear', reg_alpha=0, reg_lambda=1,\n",
       "       scale_pos_weight=1, seed=0, silent=True, subsample=1)"
      ]
     },
     "execution_count": 19,
     "metadata": {},
     "output_type": "execute_result"
    }
   ],
   "source": [
    "xgb.fit(X_train, y5_train)"
   ]
  },
  {
   "cell_type": "code",
   "execution_count": 20,
   "metadata": {
    "ExecuteTime": {
     "end_time": "2017-12-02T09:09:31.988302Z",
     "start_time": "2017-12-02T09:09:27.623830Z"
    }
   },
   "outputs": [
    {
     "data": {
      "text/plain": [
       "45.284482497451918"
      ]
     },
     "execution_count": 20,
     "metadata": {},
     "output_type": "execute_result"
    }
   ],
   "source": [
    "meanReturnCurve(y5_test, xgb.predict(X_test))"
   ]
  },
  {
   "cell_type": "markdown",
   "metadata": {},
   "source": [
    "Według naszej miary najlepiej wypada XGBoost i Random Forest. Jednak jest to robione bez optymalizacji hiper parametrów, więc dużo się może jeszcze zmienić."
   ]
  },
  {
   "cell_type": "markdown",
   "metadata": {},
   "source": [
    "# 5. Analiza modelu"
   ]
  },
  {
   "cell_type": "code",
   "execution_count": 22,
   "metadata": {
    "ExecuteTime": {
     "end_time": "2017-12-02T09:10:07.933837Z",
     "start_time": "2017-12-02T09:09:55.994034Z"
    },
    "scrolled": true
   },
   "outputs": [
    {
     "data": {
      "image/png": "[encoded data removed]",
      "text/plain": [
       "<matplotlib.figure.Figure at 0x7f74447126d8>"
      ]
     },
     "metadata": {},
     "output_type": "display_data"
    }
   ],
   "source": [
    "plotMeanReturnCurve(y5_test, svr.predict(X_test), color=\"green\")\n",
    "plotMeanReturnCurve(y5_test, xgb.predict(X_test), color=\"red\")\n",
    "plotMeanReturnCurve(y5_test, rf.predict(X_test), color=\"blue\")\n",
    "plt.ylim(15,100)\n",
    "plt.xlim(0.1, 1)\n",
    "plt.show()"
   ]
  },
  {
   "cell_type": "markdown",
   "metadata": {},
   "source": [
    "Wykres pokazuje że gdy nasz model wybiera coraz mniej największych zwrot to średni zwrot rośnie. Pokazuje to, że im większa predykcja modelu tym większy potencialny zwrot z inwestycji. Przy wybieraniu 20% największych zwrotów z modelu średni zwrot z inwestycji wynosi około 20 punktów. <br>\n",
    "Policzmy dla jakiej wartości to dokładnie wynosi i ile uzyskujemy poprawy od pasywnego inwestowania."
   ]
  },
  {
   "cell_type": "code",
   "execution_count": 23,
   "metadata": {
    "ExecuteTime": {
     "end_time": "2017-12-02T09:10:25.660206Z",
     "start_time": "2017-12-02T09:10:25.579449Z"
    },
    "collapsed": true
   },
   "outputs": [],
   "source": [
    "y_pred = rf.predict(X_test)"
   ]
  },
  {
   "cell_type": "code",
   "execution_count": 24,
   "metadata": {
    "ExecuteTime": {
     "end_time": "2017-12-02T09:10:25.835292Z",
     "start_time": "2017-12-02T09:10:25.829486Z"
    }
   },
   "outputs": [
    {
     "name": "stdout",
     "output_type": "stream",
     "text": [
      "80 percentyl przewidywanych zwrotów wynosi:  19.6470565804\n"
     ]
    }
   ],
   "source": [
    "c = np.percentile(y_pred, 80)\n",
    "print(\"80 percentyl przewidywanych zwrotów wynosi: \",c)"
   ]
  },
  {
   "cell_type": "code",
   "execution_count": 25,
   "metadata": {
    "ExecuteTime": {
     "end_time": "2017-12-02T09:10:33.430897Z",
     "start_time": "2017-12-02T09:10:33.423552Z"
    }
   },
   "outputs": [
    {
     "name": "stdout",
     "output_type": "stream",
     "text": [
      "Inwestując pasywnie osiągamy zwrot 18.96, a z naszym modelem średnia wynosi 73.07\n"
     ]
    }
   ],
   "source": [
    "print(\"Inwestując pasywnie osiągamy zwrot %.2f, a z naszym modelem średnia wynosi %.2f\" % \n",
    "     (y5_test.mean(), y5_test[y_pred >19.64].mean()))"
   ]
  },
  {
   "cell_type": "markdown",
   "metadata": {},
   "source": [
    "Jak widać jest to różnica która jest dość istotna co oznacza, że modelowanie danych inwestycyjnych przy pomocy analizy techinczej i modeli ma sens. <br>\n",
    "Można również spróbować zwiększyć moc modelu przy pomocy szukania optymalnych parametrów naszych modeli czy testowania na różnych instrumentach finansowych."
   ]
  },
  {
   "cell_type": "markdown",
   "metadata": {},
   "source": [
    "Jeszcze sprawdźmy kiedy model podejmuje decyzje inwestycjne, tzn. zaznaczmy na wykresie ceny punkty, w których model powiedziałby \"kup tutaj!\"(y_pred > 4.14) w ciągu ostatych 300 dni roboczych i histogram rozkładu zysków z modelu."
   ]
  },
  {
   "cell_type": "code",
   "execution_count": 27,
   "metadata": {
    "ExecuteTime": {
     "end_time": "2017-12-02T09:10:49.315534Z",
     "start_time": "2017-12-02T09:10:49.309997Z"
    },
    "collapsed": true
   },
   "outputs": [],
   "source": [
    "col = y5_test[-800:-500][y_pred[-800:-500] > 19.64] > 0"
   ]
  },
  {
   "cell_type": "code",
   "execution_count": 28,
   "metadata": {
    "ExecuteTime": {
     "end_time": "2017-12-02T09:11:02.418821Z",
     "start_time": "2017-12-02T09:11:02.127464Z"
    }
   },
   "outputs": [
    {
     "data": {
      "image/png": "[encoded data removed]",
      "text/plain": [
       "<matplotlib.figure.Figure at 0x7f740edcde48>"
      ]
     },
     "metadata": {},
     "output_type": "display_data"
    }
   ],
   "source": [
    "markers = np.where(y_pred[-800:-500] > 19.64)\n",
    "plt.figure(figsize=(15,10))\n",
    "plt.plot(range(300), price[-805:-505])\n",
    "plt.scatter(markers, price[-805:-505][y_pred[-800:-500] > 19.64], c=col)\n",
    "plt.show()"
   ]
  },
  {
   "cell_type": "markdown",
   "metadata": {},
   "source": [
    "Żółtymi kropkami zaznaczamy inwestycje z których zwrot był większy niż 0, a niebieskimi te które okazały się nie trafione. <br>\n",
    "Z wykresu możemy dojrzeć, że model często wybiera punkty obok siebie, co oznacza że dni inwestycjnę będą się na siebie nakładać. Można to jednak to ograniczenie ominąć otwierając pozycje przy każdej pozytwnej informacji od modelu i posiadanie funduszy na otwarcie naraz kilku pozycji."
   ]
  },
  {
   "cell_type": "code",
   "execution_count": 30,
   "metadata": {
    "ExecuteTime": {
     "end_time": "2017-12-02T09:11:37.429474Z",
     "start_time": "2017-12-02T09:11:37.248815Z"
    }
   },
   "outputs": [
    {
     "data": {
      "image/png": "[encoded data removed]",
      "text/plain": [
       "<matplotlib.figure.Figure at 0x7f7413a82780>"
      ]
     },
     "metadata": {},
     "output_type": "display_data"
    }
   ],
   "source": [
    "plt.hist(y5_test[y_pred > 19.69], bins=20)\n",
    "plt.show()"
   ]
  },
  {
   "cell_type": "markdown",
   "metadata": {},
   "source": [
    "Histogram wyników przypomina(z grubsza) rozkład normlany z średnią 20. By to zweryfikować można przeprowadzić test Sharpiro-Wilka by potem modelować kolejne zwroty z modelu jako ruchy Browna. Ja jednak w dalszej analizię skupię się na poprawieniu modelu, by podkręcić średnie zwrotu z modelu."
   ]
  },
  {
   "cell_type": "markdown",
   "metadata": {},
   "source": [
    "# 6. Podsumowanie\n",
    "Jak widać za pomocą analizy techinczej i metod ML można uzyskać lepsze wyniki niż pasywne inwestowane. Dalszym przedmiotem badań może być próba lepszego modelowania przy optymalizacji parametrów modelu lub używania dodatkowych metod jak np. AutoEnkodery, które są wspomniane w artykule 1 jako coś co poprawia wyniki SVM. Ciekawe jest również jak model radzi sobie na danych na których nie ma tak mocnego trendu wzrostowego jak na danych z indeksów giełdowych"
   ]
  }
 ],
 "metadata": {
  "kernelspec": {
   "display_name": "Python 3",
   "language": "python",
   "name": "python3"
  },
  "language_info": {
   "codemirror_mode": {
    "name": "ipython",
    "version": 3
   },
   "file_extension": ".py",
   "mimetype": "text/x-python",
   "name": "python",
   "nbconvert_exporter": "python",
   "pygments_lexer": "ipython3",
   "version": "3.6.2"
  },
  "varInspector": {
   "cols": {
    "lenName": 16,
    "lenType": 16,
    "lenVar": 40
   },
   "kernels_config": {
    "python": {
     "delete_cmd_postfix": "",
     "delete_cmd_prefix": "del ",
     "library": "var_list.py",
     "varRefreshCmd": "print(var_dic_list())"
    },
    "r": {
     "delete_cmd_postfix": ") ",
     "delete_cmd_prefix": "rm(",
     "library": "var_list.r",
     "varRefreshCmd": "cat(var_dic_list()) "
    }
   },
   "position": {
    "height": "586px",
    "left": "1185px",
    "right": "61px",
    "top": "72px",
    "width": "354px"
   },
   "types_to_exclude": [
    "module",
    "function",
    "builtin_function_or_method",
    "instance",
    "_Feature"
   ],
   "window_display": false
  }
 },
 "nbformat": 4,
 "nbformat_minor": 2
}
