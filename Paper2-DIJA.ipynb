{
 "cells": [
  {
   "cell_type": "markdown",
   "metadata": {},
   "source": [
    "# Przewidywanie cen indeksów DIJA za pomocą analizy technicznej i ML"
   ]
  },
  {
   "cell_type": "markdown",
   "metadata": {},
   "source": [
    "## 1. Wstęp\n",
    "W tym notebooku spróbuję użyć analizy techniczej i różnych technik uczenia maszynowego by przewidywać ceny futursa na indeks giełdowy SPY500. Będę głównie wzorował się na artykule: https://arxiv.org/pdf/1706.00948.pdf. Dalej będę się do niego odwoływał jako do Artykułu 1."
   ]
  },
  {
   "cell_type": "markdown",
   "metadata": {},
   "source": [
    "## 2. Dane\n",
    "Dane biorę ze strony https://stooq.pl/q/d/?s=es.f skąd można za darmo pobrać dniowe dane dotyczące futursa na indeks SPY500. W danych mamy cenę otwarcia(Open), najwyższą(High), najniższą(Low) i zamknięcia(Close) oraz wolumen i liczbę otwartych pozycji(LOP). Dane są za lata 1998-2017."
   ]
  },
  {
   "cell_type": "markdown",
   "metadata": {},
   "source": [
    "## 3.Data preprocessing\n",
    "Za pomocą danych stworze 9 wskaźników analizy techniczej użytych w Artykule 1: <br>\n",
    "1)Oscylator stochastyczny <br>\n",
    "2)Momentum <br>\n",
    "3)ROC <br>\n",
    "4)WillR% <br>\n",
    "5)Disp5 <br>\n",
    "6)Disp10 <br>\n",
    "7)OSCP <br>\n",
    "8)RSI <br>\n",
    "9)CCI <br>\n",
    "Po dokładny opis każdego wskaźnika odsyłam do artykułu 1, lub do https://en.wikipedia.org/wiki/Technical_analysis.<br>\n",
    "Wskaźniki stworzę przy pomocy biblioteki TA-LIB(https://github.com/mrjbq7/ta-lib) <br>\n",
    "Usunę również początkowe kolumny, by nasze przewidywania opierać tylko i wyłącznie na tych wskaźnikach.<br>\n",
    "Jako zmienną celu wezmę zwrot w przeciągu 1, 3 i 5 dni."
   ]
  },
  {
   "cell_type": "code",
   "execution_count": 31,
   "metadata": {
    "ExecuteTime": {
     "end_time": "2017-12-02T10:31:58.605952Z",
     "start_time": "2017-12-02T10:31:58.542334Z"
    },
    "collapsed": true,
    "hide_input": false
   },
   "outputs": [],
   "source": [
    "def addTechnicalFeatures(df):\n",
    "    df['Data'] = pd.to_datetime(df['Data'])\n",
    "    df.columns = ['Data', 'Open','High', 'Low', 'Close', 'Wol', \"Lop\"]\n",
    "    #Wskazniki analizy technicznej\n",
    "    k, dfast = talib.STOCH(np.array(df['High']),np.array(df['Low']),\n",
    "                           np.array(df['Close'])) # uses high, low, close by default\n",
    "    df['k'] = k\n",
    "    df['dfast'] = dfast\n",
    "    df['dslow'] = talib.SMA(dfast, timeperiod=5)\n",
    "    df['momentum'] = talib.MOM(np.array(df['Close']), timeperiod=4)\n",
    "    df['roc'] = talib.ROC(np.array(df['Close']), timeperiod=5)\n",
    "    df['willR'] = talib.WILLR(np.array(df['High']), np.array(df['Low']),\n",
    "                        np.array(df['Close']), timeperiod = 5)\n",
    "    #ad = talib.ADOSC(np.array(df['High']), np.array(df['Low']),\n",
    "    #                          np.array(df['Close']), np.array(df['Wol']))\n",
    "    df['disp5'] = df['Close'] / talib.SMA(np.array(df['Close']), 5) * 100\n",
    "    df['disp10'] = df['Close'] / talib.SMA(np.array(df['Close']), 10) * 100\n",
    "    df['oscp'] = ((talib.SMA(np.array(df['Close']), 5) - talib.SMA(np.array(df['Close']), 10)) / \n",
    "                                                        talib.SMA(np.array(df['Close']), 5)) \n",
    "    df['rsi'] = talib.RSI(np.array(df['Close']))\n",
    "    df['CCI'] = talib.CCI(np.array(df['High']),np.array(df['Low']), np.array(df['Close']))\n",
    "    #Tworzenie zmiennej celu\n",
    "    df['target1'] = df['Close'].shift(-1) -df['Open']\n",
    "    df['target5'] = df['Close'].shift(-5) -df['Open']\n",
    "    df['target3'] = df['Close'].shift(-3) -df['Open']\n",
    "    #zostawienie tylko zmiennej celu i wskaźników technicznych\n",
    "    df.drop(['Data','Open', 'High', 'Low', 'Close', 'Wol', 'Lop'],axis=1, inplace=True)\n",
    "    return df"
   ]
  },
  {
   "cell_type": "code",
   "execution_count": 34,
   "metadata": {
    "ExecuteTime": {
     "end_time": "2017-12-02T10:35:32.987247Z",
     "start_time": "2017-12-02T10:35:32.888663Z"
    }
   },
   "outputs": [
    {
     "data": {
      "text/html": [
       "<div>\n",
       "<style>\n",
       "    .dataframe thead tr:only-child th {\n",
       "        text-align: right;\n",
       "    }\n",
       "\n",
       "    .dataframe thead th {\n",
       "        text-align: left;\n",
       "    }\n",
       "\n",
       "    .dataframe tbody tr th {\n",
       "        vertical-align: top;\n",
       "    }\n",
       "</style>\n",
       "<table border=\"1\" class=\"dataframe\">\n",
       "  <thead>\n",
       "    <tr style=\"text-align: right;\">\n",
       "      <th></th>\n",
       "      <th>k</th>\n",
       "      <th>dfast</th>\n",
       "      <th>dslow</th>\n",
       "      <th>momentum</th>\n",
       "      <th>roc</th>\n",
       "      <th>willR</th>\n",
       "      <th>disp5</th>\n",
       "      <th>disp10</th>\n",
       "      <th>oscp</th>\n",
       "      <th>rsi</th>\n",
       "      <th>CCI</th>\n",
       "      <th>target1</th>\n",
       "      <th>target5</th>\n",
       "      <th>target3</th>\n",
       "    </tr>\n",
       "  </thead>\n",
       "  <tbody>\n",
       "    <tr>\n",
       "      <th>0</th>\n",
       "      <td>NaN</td>\n",
       "      <td>NaN</td>\n",
       "      <td>NaN</td>\n",
       "      <td>NaN</td>\n",
       "      <td>NaN</td>\n",
       "      <td>NaN</td>\n",
       "      <td>NaN</td>\n",
       "      <td>NaN</td>\n",
       "      <td>NaN</td>\n",
       "      <td>NaN</td>\n",
       "      <td>NaN</td>\n",
       "      <td>125.0</td>\n",
       "      <td>190.0</td>\n",
       "      <td>23.0</td>\n",
       "    </tr>\n",
       "    <tr>\n",
       "      <th>1</th>\n",
       "      <td>NaN</td>\n",
       "      <td>NaN</td>\n",
       "      <td>NaN</td>\n",
       "      <td>NaN</td>\n",
       "      <td>NaN</td>\n",
       "      <td>NaN</td>\n",
       "      <td>NaN</td>\n",
       "      <td>NaN</td>\n",
       "      <td>NaN</td>\n",
       "      <td>NaN</td>\n",
       "      <td>NaN</td>\n",
       "      <td>-167.0</td>\n",
       "      <td>-334.0</td>\n",
       "      <td>186.0</td>\n",
       "    </tr>\n",
       "    <tr>\n",
       "      <th>2</th>\n",
       "      <td>NaN</td>\n",
       "      <td>NaN</td>\n",
       "      <td>NaN</td>\n",
       "      <td>NaN</td>\n",
       "      <td>NaN</td>\n",
       "      <td>NaN</td>\n",
       "      <td>NaN</td>\n",
       "      <td>NaN</td>\n",
       "      <td>NaN</td>\n",
       "      <td>NaN</td>\n",
       "      <td>NaN</td>\n",
       "      <td>8.0</td>\n",
       "      <td>195.0</td>\n",
       "      <td>175.0</td>\n",
       "    </tr>\n",
       "    <tr>\n",
       "      <th>3</th>\n",
       "      <td>NaN</td>\n",
       "      <td>NaN</td>\n",
       "      <td>NaN</td>\n",
       "      <td>NaN</td>\n",
       "      <td>NaN</td>\n",
       "      <td>NaN</td>\n",
       "      <td>NaN</td>\n",
       "      <td>NaN</td>\n",
       "      <td>NaN</td>\n",
       "      <td>NaN</td>\n",
       "      <td>NaN</td>\n",
       "      <td>336.0</td>\n",
       "      <td>192.0</td>\n",
       "      <td>-184.0</td>\n",
       "    </tr>\n",
       "    <tr>\n",
       "      <th>4</th>\n",
       "      <td>NaN</td>\n",
       "      <td>NaN</td>\n",
       "      <td>NaN</td>\n",
       "      <td>206.0</td>\n",
       "      <td>NaN</td>\n",
       "      <td>-1.241379</td>\n",
       "      <td>103.228775</td>\n",
       "      <td>NaN</td>\n",
       "      <td>NaN</td>\n",
       "      <td>NaN</td>\n",
       "      <td>NaN</td>\n",
       "      <td>-20.0</td>\n",
       "      <td>167.0</td>\n",
       "      <td>0.0</td>\n",
       "    </tr>\n",
       "  </tbody>\n",
       "</table>\n",
       "</div>"
      ],
      "text/plain": [
       "    k  dfast  dslow  momentum  roc     willR       disp5  disp10  oscp  rsi  \\\n",
       "0 NaN    NaN    NaN       NaN  NaN       NaN         NaN     NaN   NaN  NaN   \n",
       "1 NaN    NaN    NaN       NaN  NaN       NaN         NaN     NaN   NaN  NaN   \n",
       "2 NaN    NaN    NaN       NaN  NaN       NaN         NaN     NaN   NaN  NaN   \n",
       "3 NaN    NaN    NaN       NaN  NaN       NaN         NaN     NaN   NaN  NaN   \n",
       "4 NaN    NaN    NaN     206.0  NaN -1.241379  103.228775     NaN   NaN  NaN   \n",
       "\n",
       "   CCI  target1  target5  target3  \n",
       "0  NaN    125.0    190.0     23.0  \n",
       "1  NaN   -167.0   -334.0    186.0  \n",
       "2  NaN      8.0    195.0    175.0  \n",
       "3  NaN    336.0    192.0   -184.0  \n",
       "4  NaN    -20.0    167.0      0.0  "
      ]
     },
     "execution_count": 34,
     "metadata": {},
     "output_type": "execute_result"
    }
   ],
   "source": [
    "import pandas as pd\n",
    "import numpy as np\n",
    "import talib\n",
    "from sklearn.externals import joblib\n",
    "import matplotlib.pyplot as plt\n",
    "df = pd.read_csv(\"/home/olaf/Finanse/ym_f_d.csv\")\n",
    "price = df['Otwarcie']\n",
    "df = addTechnicalFeatures(df)\n",
    "df.head()"
   ]
  },
  {
   "cell_type": "markdown",
   "metadata": {},
   "source": [
    "Jak widać w stworzenj bazie na początku mamy dużo NaNów, ponieważ często wskaźniki wykorzystują średnie z kilku ostatnich dni, co powoduje że dla pierwszych rekordów nie da się ich policzyć. Możemy je usunąc, gdyż nie wpłynie to znacząco na rozmiar bazy."
   ]
  },
  {
   "cell_type": "code",
   "execution_count": 35,
   "metadata": {
    "ExecuteTime": {
     "end_time": "2017-12-02T10:35:33.512891Z",
     "start_time": "2017-12-02T10:35:33.502305Z"
    },
    "collapsed": true
   },
   "outputs": [],
   "source": [
    "df.dropna(inplace=True, axis = 0)"
   ]
  },
  {
   "cell_type": "code",
   "execution_count": 36,
   "metadata": {
    "ExecuteTime": {
     "end_time": "2017-12-02T10:35:33.953881Z",
     "start_time": "2017-12-02T10:35:33.903277Z"
    }
   },
   "outputs": [
    {
     "data": {
      "text/html": [
       "<div>\n",
       "<style>\n",
       "    .dataframe thead tr:only-child th {\n",
       "        text-align: right;\n",
       "    }\n",
       "\n",
       "    .dataframe thead th {\n",
       "        text-align: left;\n",
       "    }\n",
       "\n",
       "    .dataframe tbody tr th {\n",
       "        vertical-align: top;\n",
       "    }\n",
       "</style>\n",
       "<table border=\"1\" class=\"dataframe\">\n",
       "  <thead>\n",
       "    <tr style=\"text-align: right;\">\n",
       "      <th></th>\n",
       "      <th>k</th>\n",
       "      <th>dfast</th>\n",
       "      <th>dslow</th>\n",
       "      <th>momentum</th>\n",
       "      <th>roc</th>\n",
       "      <th>willR</th>\n",
       "      <th>disp5</th>\n",
       "      <th>disp10</th>\n",
       "      <th>oscp</th>\n",
       "      <th>rsi</th>\n",
       "      <th>CCI</th>\n",
       "      <th>target1</th>\n",
       "      <th>target5</th>\n",
       "      <th>target3</th>\n",
       "    </tr>\n",
       "  </thead>\n",
       "  <tbody>\n",
       "    <tr>\n",
       "      <th>14</th>\n",
       "      <td>45.889938</td>\n",
       "      <td>53.752790</td>\n",
       "      <td>71.482306</td>\n",
       "      <td>-225.0</td>\n",
       "      <td>-0.959262</td>\n",
       "      <td>-50.000000</td>\n",
       "      <td>99.327819</td>\n",
       "      <td>100.335714</td>\n",
       "      <td>0.010045</td>\n",
       "      <td>51.970443</td>\n",
       "      <td>54.004880</td>\n",
       "      <td>192.0</td>\n",
       "      <td>70.0</td>\n",
       "      <td>10.0</td>\n",
       "    </tr>\n",
       "    <tr>\n",
       "      <th>15</th>\n",
       "      <td>68.290662</td>\n",
       "      <td>55.019573</td>\n",
       "      <td>68.012572</td>\n",
       "      <td>299.0</td>\n",
       "      <td>0.880734</td>\n",
       "      <td>-1.454545</td>\n",
       "      <td>102.853508</td>\n",
       "      <td>103.552190</td>\n",
       "      <td>0.006747</td>\n",
       "      <td>58.507922</td>\n",
       "      <td>135.573123</td>\n",
       "      <td>30.0</td>\n",
       "      <td>-145.0</td>\n",
       "      <td>175.0</td>\n",
       "    </tr>\n",
       "    <tr>\n",
       "      <th>16</th>\n",
       "      <td>71.030303</td>\n",
       "      <td>61.736968</td>\n",
       "      <td>63.500954</td>\n",
       "      <td>95.0</td>\n",
       "      <td>1.409160</td>\n",
       "      <td>-35.454545</td>\n",
       "      <td>100.241276</td>\n",
       "      <td>100.567721</td>\n",
       "      <td>0.003246</td>\n",
       "      <td>53.564282</td>\n",
       "      <td>91.272592</td>\n",
       "      <td>-160.0</td>\n",
       "      <td>-530.0</td>\n",
       "      <td>-100.0</td>\n",
       "    </tr>\n",
       "    <tr>\n",
       "      <th>17</th>\n",
       "      <td>76.181818</td>\n",
       "      <td>71.834261</td>\n",
       "      <td>61.893736</td>\n",
       "      <td>84.0</td>\n",
       "      <td>1.255493</td>\n",
       "      <td>-34.545455</td>\n",
       "      <td>100.054587</td>\n",
       "      <td>100.373367</td>\n",
       "      <td>0.003176</td>\n",
       "      <td>53.676987</td>\n",
       "      <td>60.866798</td>\n",
       "      <td>270.0</td>\n",
       "      <td>-73.0</td>\n",
       "      <td>-50.0</td>\n",
       "    </tr>\n",
       "    <tr>\n",
       "      <th>18</th>\n",
       "      <td>71.835749</td>\n",
       "      <td>73.015957</td>\n",
       "      <td>63.071910</td>\n",
       "      <td>255.0</td>\n",
       "      <td>2.806666</td>\n",
       "      <td>-14.492754</td>\n",
       "      <td>101.228810</td>\n",
       "      <td>101.769966</td>\n",
       "      <td>0.005317</td>\n",
       "      <td>56.836019</td>\n",
       "      <td>124.281579</td>\n",
       "      <td>0.0</td>\n",
       "      <td>-360.0</td>\n",
       "      <td>-430.0</td>\n",
       "    </tr>\n",
       "  </tbody>\n",
       "</table>\n",
       "</div>"
      ],
      "text/plain": [
       "            k      dfast      dslow  momentum       roc      willR  \\\n",
       "14  45.889938  53.752790  71.482306    -225.0 -0.959262 -50.000000   \n",
       "15  68.290662  55.019573  68.012572     299.0  0.880734  -1.454545   \n",
       "16  71.030303  61.736968  63.500954      95.0  1.409160 -35.454545   \n",
       "17  76.181818  71.834261  61.893736      84.0  1.255493 -34.545455   \n",
       "18  71.835749  73.015957  63.071910     255.0  2.806666 -14.492754   \n",
       "\n",
       "         disp5      disp10      oscp        rsi         CCI  target1  target5  \\\n",
       "14   99.327819  100.335714  0.010045  51.970443   54.004880    192.0     70.0   \n",
       "15  102.853508  103.552190  0.006747  58.507922  135.573123     30.0   -145.0   \n",
       "16  100.241276  100.567721  0.003246  53.564282   91.272592   -160.0   -530.0   \n",
       "17  100.054587  100.373367  0.003176  53.676987   60.866798    270.0    -73.0   \n",
       "18  101.228810  101.769966  0.005317  56.836019  124.281579      0.0   -360.0   \n",
       "\n",
       "    target3  \n",
       "14     10.0  \n",
       "15    175.0  \n",
       "16   -100.0  \n",
       "17    -50.0  \n",
       "18   -430.0  "
      ]
     },
     "execution_count": 36,
     "metadata": {},
     "output_type": "execute_result"
    }
   ],
   "source": [
    "df.head()"
   ]
  },
  {
   "cell_type": "markdown",
   "metadata": {
    "ExecuteTime": {
     "end_time": "2017-11-26T18:30:22.584075Z",
     "start_time": "2017-11-26T18:30:22.581894Z"
    }
   },
   "source": [
    "Pozostaje jeszcze znormalizować dane."
   ]
  },
  {
   "cell_type": "code",
   "execution_count": 37,
   "metadata": {
    "ExecuteTime": {
     "end_time": "2017-12-02T10:35:34.186902Z",
     "start_time": "2017-12-02T10:35:34.174947Z"
    },
    "collapsed": true
   },
   "outputs": [],
   "source": [
    "from sklearn.preprocessing import MinMaxScaler\n",
    "X = df.drop(['target1','target3','target5'], axis=1)\n",
    "scaler = MinMaxScaler()\n",
    "X = scaler.fit_transform(X)"
   ]
  },
  {
   "cell_type": "code",
   "execution_count": 38,
   "metadata": {
    "ExecuteTime": {
     "end_time": "2017-12-02T10:35:35.134823Z",
     "start_time": "2017-12-02T10:35:34.849549Z"
    },
    "collapsed": true
   },
   "outputs": [],
   "source": [
    "pd.DataFrame(X).to_csv(\"daneAT.csv\")\n",
    "pd.DataFrame(df['target5']).to_csv('target.csv')"
   ]
  },
  {
   "cell_type": "markdown",
   "metadata": {},
   "source": [
    "Podział na dane trenignowe i testowe"
   ]
  },
  {
   "cell_type": "code",
   "execution_count": 39,
   "metadata": {
    "ExecuteTime": {
     "end_time": "2017-12-02T10:35:36.175595Z",
     "start_time": "2017-12-02T10:35:36.149167Z"
    },
    "collapsed": true
   },
   "outputs": [],
   "source": [
    "X_train = X[:-800]\n",
    "X_test = X[-800:]\n",
    "y1_train = df['target1'][:-800]\n",
    "y1_test = df['target1'][-800:]\n",
    "y3_train = df['target3'][:-800]\n",
    "y3_test = df['target3'][-800:]\n",
    "y5_train = df['target5'][:-800]\n",
    "y5_test = df['target5'][-800:]"
   ]
  },
  {
   "cell_type": "markdown",
   "metadata": {},
   "source": [
    "## 4.Modelowanie"
   ]
  },
  {
   "cell_type": "markdown",
   "metadata": {},
   "source": [
    "Kluczowym pytaniem podczas modelowania jest odpowiedź na pytanie jak będziemy mierzyć jakość naszych modeli. Według mnie najlepszym pomysłem jest stworzenie krzywej średniego zwrotu inwestycji na osi y oraz odsetek inwestycji na osi x zależnie od wybranego poziomu odcięcia."
   ]
  },
  {
   "cell_type": "markdown",
   "metadata": {},
   "source": [
    "## 4.1 Wybór modeli\n",
    "W naszej analizie wypróbuje model SVM, Random Forest i XGboost. Dodatkowo sprawdzę jak każdy model radzi sobie na różnych zmiennych celu(przewidywanie 1, 3 i 5 dni do przodu)."
   ]
  },
  {
   "cell_type": "markdown",
   "metadata": {},
   "source": [
    "Jako że dane mają charakter czasowy to próbkę podzieliłem ze względu na datę. Ostatnie 800 obserwacji(jakieś 3 lata) będzie danymi testowymi."
   ]
  },
  {
   "cell_type": "markdown",
   "metadata": {},
   "source": [
    "Napiszmy funkcję liczącą metrykę by móc potem łatwo porownywać modele."
   ]
  },
  {
   "cell_type": "code",
   "execution_count": 40,
   "metadata": {
    "ExecuteTime": {
     "end_time": "2017-12-02T10:35:38.421424Z",
     "start_time": "2017-12-02T10:35:38.391024Z"
    },
    "collapsed": true
   },
   "outputs": [],
   "source": [
    "from sklearn.metrics import auc\n",
    "def meanReturnCurve(y_true, y_pred):\n",
    "    thresholds = np.unique(y_pred)\n",
    "    meanReturn = []\n",
    "    percent = []\n",
    "    for thresh in thresholds:\n",
    "        meanReturn.append(np.mean(y_true[y_pred >= thresh]))\n",
    "        percent.append(sum(y_pred >= thresh)/len(y_pred))\n",
    "    return auc(percent, meanReturn)\n",
    "\n",
    "def plotMeanReturnCurve(y_true, y_pred, **kwargs):\n",
    "    thresholds = np.unique(y_pred)\n",
    "    meanReturn = []\n",
    "    percent = []\n",
    "    for thresh in thresholds:\n",
    "        meanReturn.append(np.mean(y_true[y_pred >= thresh]))\n",
    "        percent.append(sum(y_pred >= thresh)/len(y_pred))\n",
    "    return plt.plot(percent, meanReturn, **kwargs)\n",
    "\n"
   ]
  },
  {
   "cell_type": "markdown",
   "metadata": {},
   "source": [
    "## 4.2 Modelowanie"
   ]
  },
  {
   "cell_type": "markdown",
   "metadata": {},
   "source": [
    "### 4.1 SVM, RF i XGBoost "
   ]
  },
  {
   "cell_type": "markdown",
   "metadata": {
    "ExecuteTime": {
     "end_time": "2017-11-29T18:55:31.857296Z",
     "start_time": "2017-11-29T18:55:31.851293Z"
    }
   },
   "source": [
    "Poniżej porównamy wyniki SVM, Random Forest i XGBoost w przewidywaniu zwrotu w przeciągu 5 dni od zakupu futursa. "
   ]
  },
  {
   "cell_type": "code",
   "execution_count": 41,
   "metadata": {
    "ExecuteTime": {
     "end_time": "2017-12-02T10:35:39.826642Z",
     "start_time": "2017-12-02T10:35:39.820225Z"
    },
    "collapsed": true
   },
   "outputs": [],
   "source": [
    "from sklearn.svm import SVR\n",
    "svr = SVR(C=10, cache_size=200, coef0=0.0, degree=3, epsilon=1, gamma='auto',\n",
    "  kernel='linear', max_iter=-1, shrinking=True, tol=0.001, verbose=False)"
   ]
  },
  {
   "cell_type": "code",
   "execution_count": 42,
   "metadata": {
    "ExecuteTime": {
     "end_time": "2017-12-02T10:35:41.122067Z",
     "start_time": "2017-12-02T10:35:40.207110Z"
    }
   },
   "outputs": [
    {
     "data": {
      "text/plain": [
       "SVR(C=10, cache_size=200, coef0=0.0, degree=3, epsilon=1, gamma='auto',\n",
       "  kernel='linear', max_iter=-1, shrinking=True, tol=0.001, verbose=False)"
      ]
     },
     "execution_count": 42,
     "metadata": {},
     "output_type": "execute_result"
    }
   ],
   "source": [
    "svr.fit(X_train, y1_train)"
   ]
  },
  {
   "cell_type": "code",
   "execution_count": 45,
   "metadata": {
    "ExecuteTime": {
     "end_time": "2017-12-02T10:35:43.682107Z",
     "start_time": "2017-12-02T10:35:43.677543Z"
    },
    "collapsed": true
   },
   "outputs": [],
   "source": [
    "from sklearn.ensemble import RandomForestRegressor\n",
    "rf = RandomForestRegressor(bootstrap=True, criterion='mse', max_depth=6,\n",
    "           max_features=0.9, max_leaf_nodes=None,\n",
    "           min_impurity_decrease=0.0, min_impurity_split=None,\n",
    "           min_samples_leaf=0.03, min_samples_split=2,\n",
    "           min_weight_fraction_leaf=0.0, n_estimators=100, n_jobs=1,\n",
    "           oob_score=False, random_state=None, verbose=0, warm_start=False)"
   ]
  },
  {
   "cell_type": "code",
   "execution_count": 46,
   "metadata": {
    "ExecuteTime": {
     "end_time": "2017-12-02T10:35:44.127926Z",
     "start_time": "2017-12-02T10:35:44.119420Z"
    }
   },
   "outputs": [],
   "source": [
    "from xgboost import XGBRegressor\n",
    "xgb = XGBRegressor(base_score=0.5, colsample_bylevel=1, colsample_bytree=0.5,\n",
    "       gamma=0, learning_rate=0.1, max_delta_step=0, max_depth=2,\n",
    "       min_child_weight=1, missing=None, n_estimators=500, nthread=-1,\n",
    "       objective='reg:linear', reg_alpha=0, reg_lambda=1,\n",
    "       scale_pos_weight=1, seed=0, silent=True, subsample=1)"
   ]
  },
  {
   "cell_type": "code",
   "execution_count": 47,
   "metadata": {
    "ExecuteTime": {
     "end_time": "2017-12-02T10:35:45.712477Z",
     "start_time": "2017-12-02T10:35:44.471463Z"
    }
   },
   "outputs": [
    {
     "data": {
      "text/plain": [
       "SVR(C=10, cache_size=200, coef0=0.0, degree=3, epsilon=1, gamma='auto',\n",
       "  kernel='linear', max_iter=-1, shrinking=True, tol=0.001, verbose=False)"
      ]
     },
     "execution_count": 47,
     "metadata": {},
     "output_type": "execute_result"
    }
   ],
   "source": [
    "svr.fit(X_train, y5_train)"
   ]
  },
  {
   "cell_type": "code",
   "execution_count": 48,
   "metadata": {
    "ExecuteTime": {
     "end_time": "2017-12-02T10:35:49.919900Z",
     "start_time": "2017-12-02T10:35:45.947276Z"
    }
   },
   "outputs": [
    {
     "data": {
      "text/plain": [
       "141.67753331613875"
      ]
     },
     "execution_count": 48,
     "metadata": {},
     "output_type": "execute_result"
    }
   ],
   "source": [
    "meanReturnCurve(y5_test, svr.predict(X_test))"
   ]
  },
  {
   "cell_type": "code",
   "execution_count": 49,
   "metadata": {
    "ExecuteTime": {
     "end_time": "2017-12-02T10:35:51.369404Z",
     "start_time": "2017-12-02T10:35:50.094218Z"
    }
   },
   "outputs": [
    {
     "data": {
      "text/plain": [
       "RandomForestRegressor(bootstrap=True, criterion='mse', max_depth=6,\n",
       "           max_features=0.9, max_leaf_nodes=None,\n",
       "           min_impurity_decrease=0.0, min_impurity_split=None,\n",
       "           min_samples_leaf=0.03, min_samples_split=2,\n",
       "           min_weight_fraction_leaf=0.0, n_estimators=100, n_jobs=1,\n",
       "           oob_score=False, random_state=None, verbose=0, warm_start=False)"
      ]
     },
     "execution_count": 49,
     "metadata": {},
     "output_type": "execute_result"
    }
   ],
   "source": [
    "rf.fit(X_train, y5_train)"
   ]
  },
  {
   "cell_type": "code",
   "execution_count": 16,
   "metadata": {
    "ExecuteTime": {
     "end_time": "2017-12-02T09:29:31.903604Z",
     "start_time": "2017-12-02T09:29:27.435041Z"
    }
   },
   "outputs": [
    {
     "data": {
      "text/plain": [
       "153.8935872789408"
      ]
     },
     "execution_count": 16,
     "metadata": {},
     "output_type": "execute_result"
    }
   ],
   "source": [
    "meanReturnCurve(y5_test, rf.predict(X_test))"
   ]
  },
  {
   "cell_type": "code",
   "execution_count": 17,
   "metadata": {
    "ExecuteTime": {
     "end_time": "2017-12-02T09:29:34.109778Z",
     "start_time": "2017-12-02T09:29:32.066517Z"
    }
   },
   "outputs": [
    {
     "data": {
      "text/plain": [
       "XGBRegressor(base_score=0.5, colsample_bylevel=1, colsample_bytree=0.5,\n",
       "       gamma=0, learning_rate=0.1, max_delta_step=0, max_depth=2,\n",
       "       min_child_weight=1, missing=None, n_estimators=500, nthread=-1,\n",
       "       objective='reg:linear', reg_alpha=0, reg_lambda=1,\n",
       "       scale_pos_weight=1, seed=0, silent=True, subsample=1)"
      ]
     },
     "execution_count": 17,
     "metadata": {},
     "output_type": "execute_result"
    }
   ],
   "source": [
    "xgb.fit(X_train, y5_train)"
   ]
  },
  {
   "cell_type": "code",
   "execution_count": 18,
   "metadata": {
    "ExecuteTime": {
     "end_time": "2017-12-02T09:29:38.267028Z",
     "start_time": "2017-12-02T09:29:34.313227Z"
    }
   },
   "outputs": [
    {
     "data": {
      "text/plain": [
       "155.37556496004578"
      ]
     },
     "execution_count": 18,
     "metadata": {},
     "output_type": "execute_result"
    }
   ],
   "source": [
    "meanReturnCurve(y5_test, xgb.predict(X_test))"
   ]
  },
  {
   "cell_type": "markdown",
   "metadata": {},
   "source": [
    "Według naszej miary najlepiej wypada XGBoost i Random Forest. Jednak jest to robione bez optymalizacji hiper parametrów, więc dużo się może jeszcze zmienić."
   ]
  },
  {
   "cell_type": "markdown",
   "metadata": {},
   "source": [
    "# 5. Analiza modelu"
   ]
  },
  {
   "cell_type": "code",
   "execution_count": 21,
   "metadata": {
    "ExecuteTime": {
     "end_time": "2017-12-02T09:31:02.741431Z",
     "start_time": "2017-12-02T09:30:51.283792Z"
    },
    "scrolled": true
   },
   "outputs": [
    {
     "data": {
      "image/png": "[encoded data removed]",
      "text/plain": [
       "<matplotlib.figure.Figure at 0x7f29dca17e10>"
      ]
     },
     "metadata": {},
     "output_type": "display_data"
    }
   ],
   "source": [
    "plotMeanReturnCurve(y5_test, svr.predict(X_test), color=\"green\")\n",
    "plotMeanReturnCurve(y5_test, xgb.predict(X_test), color=\"red\")\n",
    "plotMeanReturnCurve(y5_test, rf.predict(X_test), color=\"blue\")\n",
    "plt.ylim(50,300)\n",
    "plt.xlim(0.1, 1)\n",
    "plt.show()"
   ]
  },
  {
   "cell_type": "markdown",
   "metadata": {},
   "source": [
    "Wykres pokazuje że gdy nasz model wybiera coraz mniej największych zwrot to średni zwrot rośnie. Pokazuje to, że im większa predykcja modelu tym większy potencialny zwrot z inwestycji. Przy wybieraniu 20% największych zwrotów z modelu średni zwrot z inwestycji wynosi około 20 punktów. <br>\n",
    "Policzmy dla jakiej wartości to dokładnie wynosi i ile uzyskujemy poprawy od pasywnego inwestowania."
   ]
  },
  {
   "cell_type": "code",
   "execution_count": 22,
   "metadata": {
    "ExecuteTime": {
     "end_time": "2017-12-02T09:32:31.770606Z",
     "start_time": "2017-12-02T09:32:31.753490Z"
    },
    "collapsed": true
   },
   "outputs": [],
   "source": [
    "y_pred = rf.predict(X_test)"
   ]
  },
  {
   "cell_type": "code",
   "execution_count": 23,
   "metadata": {
    "ExecuteTime": {
     "end_time": "2017-12-02T09:32:33.111843Z",
     "start_time": "2017-12-02T09:32:33.104793Z"
    }
   },
   "outputs": [
    {
     "name": "stdout",
     "output_type": "stream",
     "text": [
      "80 percentyl przewidywanych zwrotów wynosi:  62.9553383825\n"
     ]
    }
   ],
   "source": [
    "c = np.percentile(y_pred, 80)\n",
    "print(\"80 percentyl przewidywanych zwrotów wynosi: \",c)"
   ]
  },
  {
   "cell_type": "code",
   "execution_count": 24,
   "metadata": {
    "ExecuteTime": {
     "end_time": "2017-12-02T09:32:40.855963Z",
     "start_time": "2017-12-02T09:32:40.849298Z"
    }
   },
   "outputs": [
    {
     "name": "stdout",
     "output_type": "stream",
     "text": [
      "Inwestując pasywnie osiągamy zwrot 58.65, a z naszym modelem średnia wynosi 214.31\n"
     ]
    }
   ],
   "source": [
    "print(\"Inwestując pasywnie osiągamy zwrot %.2f, a z naszym modelem średnia wynosi %.2f\" % \n",
    "     (y5_test.mean(), y5_test[y_pred >62.95].mean()))"
   ]
  },
  {
   "cell_type": "markdown",
   "metadata": {},
   "source": [
    "Jak widać jest to różnica która jest dość istotna co oznacza, że modelowanie danych inwestycyjnych przy pomocy analizy techinczej i modeli ma sens. <br>\n",
    "Można również spróbować zwiększyć moc modelu przy pomocy szukania optymalnych parametrów naszych modeli czy testowania na różnych instrumentach finansowych."
   ]
  },
  {
   "cell_type": "markdown",
   "metadata": {},
   "source": [
    "Jeszcze sprawdźmy kiedy model podejmuje decyzje inwestycjne, tzn. zaznaczmy na wykresie ceny punkty, w których model powiedziałby \"kup tutaj!\"(y_pred > 4.14) w ciągu ostatych 300 dni roboczych i histogram rozkładu zysków z modelu."
   ]
  },
  {
   "cell_type": "code",
   "execution_count": 25,
   "metadata": {
    "ExecuteTime": {
     "end_time": "2017-12-02T09:32:52.659301Z",
     "start_time": "2017-12-02T09:32:52.655597Z"
    },
    "collapsed": true
   },
   "outputs": [],
   "source": [
    "col = y5_test[-800:-500][y_pred[-800:-500] > 62.95] > 0"
   ]
  },
  {
   "cell_type": "code",
   "execution_count": 28,
   "metadata": {
    "ExecuteTime": {
     "end_time": "2017-12-02T09:33:11.248441Z",
     "start_time": "2017-12-02T09:33:10.764351Z"
    }
   },
   "outputs": [
    {
     "data": {
      "image/png": "[encoded data removed]",
      "text/plain": [
       "<matplotlib.figure.Figure at 0x7f29dc94bac8>"
      ]
     },
     "metadata": {},
     "output_type": "display_data"
    }
   ],
   "source": [
    "markers = np.where(y_pred[-800:-500] > 62.95)\n",
    "plt.figure(figsize=(15,10))\n",
    "plt.plot(range(300), price[-805:-505])\n",
    "plt.scatter(markers, price[-805:-505][y_pred[-800:-500] > 62.95], c=col)\n",
    "plt.show()"
   ]
  },
  {
   "cell_type": "markdown",
   "metadata": {},
   "source": [
    "Żółtymi kropkami zaznaczamy inwestycje z których zwrot był większy niż 0, a niebieskimi te które okazały się nie trafione. <br>\n",
    "Z wykresu możemy dojrzeć, że model często wybiera punkty obok siebie, co oznacza że dni inwestycjnę będą się na siebie nakładać. Można to jednak to ograniczenie ominąć otwierając pozycje przy każdej pozytwnej informacji od modelu i posiadanie funduszy na otwarcie naraz kilku pozycji."
   ]
  },
  {
   "cell_type": "code",
   "execution_count": 30,
   "metadata": {
    "ExecuteTime": {
     "end_time": "2017-12-02T09:36:56.260032Z",
     "start_time": "2017-12-02T09:36:56.072646Z"
    }
   },
   "outputs": [
    {
     "data": {
      "image/png": "[encoded data removed]",
      "text/plain": [
       "<matplotlib.figure.Figure at 0x7f29dc598518>"
      ]
     },
     "metadata": {},
     "output_type": "display_data"
    }
   ],
   "source": [
    "plt.hist(y5_test[y_pred > 69.95], bins=20)\n",
    "plt.show()"
   ]
  },
  {
   "cell_type": "markdown",
   "metadata": {},
   "source": [
    "Histogram wyników przypomina(z grubsza) rozkład normlany z średnią 20. By to zweryfikować można przeprowadzić test Sharpiro-Wilka by potem modelować kolejne zwroty z modelu jako ruchy Browna. Ja jednak w dalszej analizię skupię się na poprawieniu modelu, by podkręcić średnie zwrotu z modelu."
   ]
  },
  {
   "cell_type": "markdown",
   "metadata": {},
   "source": [
    "# 6. Podsumowanie\n",
    "Jak widać za pomocą analizy techinczej i metod ML można uzyskać lepsze wyniki niż pasywne inwestowane. Dalszym przedmiotem badań może być próba lepszego modelowania przy optymalizacji parametrów modelu lub używania dodatkowych metod jak np. AutoEnkodery, które są wspomniane w artykule 1 jako coś co poprawia wyniki SVM. Ciekawe jest również jak model radzi sobie na danych na których nie ma tak mocnego trendu wzrostowego jak na danych z indeksów giełdowych"
   ]
  }
 ],
 "metadata": {
  "kernelspec": {
   "display_name": "Python 3",
   "language": "python",
   "name": "python3"
  },
  "language_info": {
   "codemirror_mode": {
    "name": "ipython",
    "version": 3
   },
   "file_extension": ".py",
   "mimetype": "text/x-python",
   "name": "python",
   "nbconvert_exporter": "python",
   "pygments_lexer": "ipython3",
   "version": "3.6.2"
  },
  "varInspector": {
   "cols": {
    "lenName": 16,
    "lenType": 16,
    "lenVar": 40
   },
   "kernels_config": {
    "python": {
     "delete_cmd_postfix": "",
     "delete_cmd_prefix": "del ",
     "library": "var_list.py",
     "varRefreshCmd": "print(var_dic_list())"
    },
    "r": {
     "delete_cmd_postfix": ") ",
     "delete_cmd_prefix": "rm(",
     "library": "var_list.r",
     "varRefreshCmd": "cat(var_dic_list()) "
    }
   },
   "position": {
    "height": "586px",
    "left": "1185px",
    "right": "61px",
    "top": "72px",
    "width": "354px"
   },
   "types_to_exclude": [
    "module",
    "function",
    "builtin_function_or_method",
    "instance",
    "_Feature"
   ],
   "window_display": false
  }
 },
 "nbformat": 4,
 "nbformat_minor": 2
}
