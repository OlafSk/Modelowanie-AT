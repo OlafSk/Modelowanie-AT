{
 "cells": [
  {
   "cell_type": "code",
   "execution_count": 1,
   "metadata": {
    "ExecuteTime": {
     "end_time": "2017-12-03T09:20:57.364102Z",
     "start_time": "2017-12-03T09:20:47.720847Z"
    },
    "collapsed": true
   },
   "outputs": [],
   "source": [
    "import pandas as pd\n",
    "from sklearn.externals import joblib\n",
    "import numpy as np\n",
    "import talib\n",
    "from sklearn.preprocessing import MinMaxScaler"
   ]
  },
  {
   "cell_type": "code",
   "execution_count": 2,
   "metadata": {
    "ExecuteTime": {
     "end_time": "2017-12-03T09:20:57.419652Z",
     "start_time": "2017-12-03T09:20:57.369960Z"
    },
    "collapsed": true
   },
   "outputs": [],
   "source": [
    "def addTechnicalFeatures(df):\n",
    "    df['Data'] = pd.to_datetime(df['Data'])\n",
    "    df.columns = ['Data', 'Open','High', 'Low', 'Close', 'Wol', \"Lop\"]\n",
    "    #Wskazniki analizy technicznej\n",
    "    k, dfast = talib.STOCH(np.array(df['High']),np.array(df['Low']),\n",
    "                           np.array(df['Close'])) # uses high, low, close by default\n",
    "    df['k'] = k\n",
    "    df['dfast'] = dfast\n",
    "    df['dslow'] = talib.SMA(dfast, timeperiod=5)\n",
    "    df['momentum'] = talib.MOM(np.array(df['Close']), timeperiod=4)\n",
    "    df['roc'] = talib.ROC(np.array(df['Close']), timeperiod=5)\n",
    "    df['willR'] = talib.WILLR(np.array(df['High']), np.array(df['Low']),\n",
    "                        np.array(df['Close']), timeperiod = 5)\n",
    "    #ad = talib.ADOSC(np.array(df['High']), np.array(df['Low']),\n",
    "    #                          np.array(df['Close']), np.array(df['Wol']))\n",
    "    df['disp5'] = df['Close'] / talib.SMA(np.array(df['Close']), 5) * 100\n",
    "    df['disp10'] = df['Close'] / talib.SMA(np.array(df['Close']), 10) * 100\n",
    "    df['oscp'] = ((talib.SMA(np.array(df['Close']), 5) - talib.SMA(np.array(df['Close']), 10)) / \n",
    "                                                        talib.SMA(np.array(df['Close']), 5)) \n",
    "    df['rsi'] = talib.RSI(np.array(df['Close']))\n",
    "    df['CCI'] = talib.CCI(np.array(df['High']),np.array(df['Low']), np.array(df['Close']))\n",
    "    #Tworzenie zmiennej celu\n",
    "    df['target1'] = df['Close'].shift(-1) -df['Open']\n",
    "    df['target5'] = df['Close'].shift(-5) -df['Open']\n",
    "    df['target3'] = df['Close'].shift(-3) -df['Open']\n",
    "    #zostawienie tylko zmiennej celu i wskaźników technicznych\n",
    "    df.drop(['Data','Open', 'High', 'Low', 'Close', 'Wol', 'Lop'],axis=1, inplace=True)\n",
    "    return df"
   ]
  },
  {
   "cell_type": "code",
   "execution_count": 3,
   "metadata": {
    "ExecuteTime": {
     "end_time": "2017-12-03T09:20:58.486577Z",
     "start_time": "2017-12-03T09:20:57.428815Z"
    },
    "collapsed": true
   },
   "outputs": [],
   "source": [
    "rfSPY = joblib.load(\"RandomForestSPY.pkl\")"
   ]
  },
  {
   "cell_type": "code",
   "execution_count": 4,
   "metadata": {
    "ExecuteTime": {
     "end_time": "2017-12-03T09:21:00.215584Z",
     "start_time": "2017-12-03T09:20:59.554334Z"
    },
    "collapsed": true
   },
   "outputs": [],
   "source": [
    "df = pd.read_csv(\"https://stooq.pl/q/d/l/?s=es.f&i=d\")"
   ]
  },
  {
   "cell_type": "code",
   "execution_count": 6,
   "metadata": {
    "ExecuteTime": {
     "end_time": "2017-12-03T09:21:30.458020Z",
     "start_time": "2017-12-03T09:21:30.316816Z"
    },
    "collapsed": true
   },
   "outputs": [],
   "source": [
    "df = addTechnicalFeatures(df)"
   ]
  },
  {
   "cell_type": "code",
   "execution_count": 7,
   "metadata": {
    "ExecuteTime": {
     "end_time": "2017-12-03T09:21:31.116681Z",
     "start_time": "2017-12-03T09:21:31.109731Z"
    },
    "collapsed": true
   },
   "outputs": [],
   "source": [
    "X = df.drop(['target1','target3','target5'], axis=1)\n",
    "X.dropna(inplace=True, axis=0, how=\"any\")"
   ]
  },
  {
   "cell_type": "code",
   "execution_count": 8,
   "metadata": {
    "ExecuteTime": {
     "end_time": "2017-12-03T09:21:32.120551Z",
     "start_time": "2017-12-03T09:21:32.115079Z"
    },
    "collapsed": true
   },
   "outputs": [],
   "source": [
    "scaler = MinMaxScaler()\n",
    "X = scaler.fit_transform(X)"
   ]
  },
  {
   "cell_type": "markdown",
   "metadata": {},
   "source": [
    "Wchodzimy gdy jest to wieksze niz 6.59, na 5 dni"
   ]
  },
  {
   "cell_type": "code",
   "execution_count": 16,
   "metadata": {
    "ExecuteTime": {
     "end_time": "2017-12-03T09:22:00.813223Z",
     "start_time": "2017-12-03T09:22:00.804330Z"
    }
   },
   "outputs": [
    {
     "data": {
      "text/plain": [
       "array([ 1.00890004])"
      ]
     },
     "execution_count": 16,
     "metadata": {},
     "output_type": "execute_result"
    }
   ],
   "source": [
    "rfSPY.predict(X[-1:,])"
   ]
  },
  {
   "cell_type": "code",
   "execution_count": 17,
   "metadata": {
    "ExecuteTime": {
     "end_time": "2017-12-03T09:22:02.764159Z",
     "start_time": "2017-12-03T09:22:02.151232Z"
    },
    "collapsed": true
   },
   "outputs": [],
   "source": [
    "df = pd.read_csv(\"https://stooq.pl/q/d/l/?s=nq.f&i=d\")"
   ]
  },
  {
   "cell_type": "code",
   "execution_count": 18,
   "metadata": {
    "ExecuteTime": {
     "end_time": "2017-12-03T09:22:02.796625Z",
     "start_time": "2017-12-03T09:22:02.780388Z"
    },
    "collapsed": true
   },
   "outputs": [],
   "source": [
    "df = addTechnicalFeatures(df)"
   ]
  },
  {
   "cell_type": "code",
   "execution_count": 19,
   "metadata": {
    "ExecuteTime": {
     "end_time": "2017-12-03T09:22:03.443063Z",
     "start_time": "2017-12-03T09:22:03.434738Z"
    },
    "collapsed": true
   },
   "outputs": [],
   "source": [
    "X = df.drop(['target1','target3','target5'], axis=1)\n",
    "X.dropna(inplace=True, axis=0, how=\"any\")\n",
    "scaler = MinMaxScaler()\n",
    "X = scaler.fit_transform(X)"
   ]
  },
  {
   "cell_type": "code",
   "execution_count": 20,
   "metadata": {
    "ExecuteTime": {
     "end_time": "2017-12-03T09:22:04.222766Z",
     "start_time": "2017-12-03T09:22:04.065728Z"
    },
    "collapsed": true
   },
   "outputs": [],
   "source": [
    "rfNDQ = joblib.load(\"randomForestNasdaq.pkl\")"
   ]
  },
  {
   "cell_type": "markdown",
   "metadata": {},
   "source": [
    "Wchodzimy, gdy jest to większy niż 19.64"
   ]
  },
  {
   "cell_type": "code",
   "execution_count": 21,
   "metadata": {
    "ExecuteTime": {
     "end_time": "2017-12-03T09:22:05.458721Z",
     "start_time": "2017-12-03T09:22:05.445227Z"
    }
   },
   "outputs": [
    {
     "data": {
      "text/plain": [
       "array([ 15.29184004])"
      ]
     },
     "execution_count": 21,
     "metadata": {},
     "output_type": "execute_result"
    }
   ],
   "source": [
    "rfNDQ.predict(X[-1:,:])"
   ]
  },
  {
   "cell_type": "code",
   "execution_count": 22,
   "metadata": {
    "ExecuteTime": {
     "end_time": "2017-12-03T09:22:06.648190Z",
     "start_time": "2017-12-03T09:22:06.139970Z"
    },
    "collapsed": true
   },
   "outputs": [],
   "source": [
    "df  = pd.read_csv(\"https://stooq.pl/q/d/l/?s=ym.f&i=d\")"
   ]
  },
  {
   "cell_type": "code",
   "execution_count": 23,
   "metadata": {
    "ExecuteTime": {
     "end_time": "2017-12-03T09:22:07.767915Z",
     "start_time": "2017-12-03T09:22:07.753480Z"
    },
    "collapsed": true
   },
   "outputs": [],
   "source": [
    "df = addTechnicalFeatures(df)"
   ]
  },
  {
   "cell_type": "code",
   "execution_count": 24,
   "metadata": {
    "ExecuteTime": {
     "end_time": "2017-12-03T09:22:09.019927Z",
     "start_time": "2017-12-03T09:22:09.011309Z"
    },
    "collapsed": true
   },
   "outputs": [],
   "source": [
    "X = df.drop(['target1','target3','target5'], axis=1)\n",
    "X.dropna(inplace=True, axis=0, how=\"any\")\n",
    "scaler = MinMaxScaler()\n",
    "X = scaler.fit_transform(X)"
   ]
  },
  {
   "cell_type": "code",
   "execution_count": 25,
   "metadata": {
    "ExecuteTime": {
     "end_time": "2017-12-03T09:22:09.727792Z",
     "start_time": "2017-12-03T09:22:09.594149Z"
    },
    "collapsed": true
   },
   "outputs": [],
   "source": [
    "rfDIJ = joblib.load(\"randomForestDIJA.pkl\")"
   ]
  },
  {
   "cell_type": "markdown",
   "metadata": {},
   "source": [
    "Tutaj wchodzimy gdy jest wieksze niz 63"
   ]
  },
  {
   "cell_type": "code",
   "execution_count": 27,
   "metadata": {
    "ExecuteTime": {
     "end_time": "2017-12-03T09:22:11.568234Z",
     "start_time": "2017-12-03T09:22:11.558466Z"
    }
   },
   "outputs": [
    {
     "data": {
      "text/plain": [
       "array([ 49.07760205])"
      ]
     },
     "execution_count": 27,
     "metadata": {},
     "output_type": "execute_result"
    }
   ],
   "source": [
    "rfDIJ.predict(X[-1:,:])"
   ]
  }
 ],
 "metadata": {
  "kernelspec": {
   "display_name": "Python 3",
   "language": "python",
   "name": "python3"
  },
  "language_info": {
   "codemirror_mode": {
    "name": "ipython",
    "version": 3
   },
   "file_extension": ".py",
   "mimetype": "text/x-python",
   "name": "python",
   "nbconvert_exporter": "python",
   "pygments_lexer": "ipython3",
   "version": "3.6.2"
  },
  "varInspector": {
   "cols": {
    "lenName": 16,
    "lenType": 16,
    "lenVar": 40
   },
   "kernels_config": {
    "python": {
     "delete_cmd_postfix": "",
     "delete_cmd_prefix": "del ",
     "library": "var_list.py",
     "varRefreshCmd": "print(var_dic_list())"
    },
    "r": {
     "delete_cmd_postfix": ") ",
     "delete_cmd_prefix": "rm(",
     "library": "var_list.r",
     "varRefreshCmd": "cat(var_dic_list()) "
    }
   },
   "types_to_exclude": [
    "module",
    "function",
    "builtin_function_or_method",
    "instance",
    "_Feature"
   ],
   "window_display": false
  }
 },
 "nbformat": 4,
 "nbformat_minor": 2
}
