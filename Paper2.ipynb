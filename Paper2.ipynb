{
 "cells": [
  {
   "cell_type": "markdown",
   "metadata": {},
   "source": [
    "# Przewidywanie cen indeksów SPY za pomocą analizy technicznej i ML"
   ]
  },
  {
   "cell_type": "markdown",
   "metadata": {},
   "source": [
    "## 1. Wstęp\n",
    "W tym notebooku spróbuję użyć analizy techniczej i różnych technik uczenia maszynowego by przewidywać ceny futursa na indeks giełdowy SPY500. Będę głównie wzorował się na artykule: https://arxiv.org/pdf/1706.00948.pdf. Dalej będę się do niego odwoływał jako do Artykułu 1."
   ]
  },
  {
   "cell_type": "markdown",
   "metadata": {},
   "source": [
    "## 2. Dane\n",
    "Dane biorę ze strony https://stooq.pl/q/d/?s=es.f skąd można za darmo pobrać dniowe dane dotyczące futursa na indeks SPY500. W danych mamy cenę otwarcia(Open), najwyższą(High), najniższą(Low) i zamknięcia(Close) oraz wolumen i liczbę otwartych pozycji(LOP). Dane są za lata 1998-2017."
   ]
  },
  {
   "cell_type": "markdown",
   "metadata": {},
   "source": [
    "## 3.Data preprocessing\n",
    "Za pomocą danych stworze 9 wskaźników analizy techniczej użytych w Artykule 1: <br>\n",
    "1)Oscylator stochastyczny <br>\n",
    "2)Momentum <br>\n",
    "3)ROC <br>\n",
    "4)WillR% <br>\n",
    "5)Disp5 <br>\n",
    "6)Disp10 <br>\n",
    "7)OSCP <br>\n",
    "8)RSI <br>\n",
    "9)CCI <br>\n",
    "Po dokładny opis każdego wskaźnika odsyłam do artykułu 1, lub do https://en.wikipedia.org/wiki/Technical_analysis.<br>\n",
    "Wskaźniki stworzę przy pomocy biblioteki TA-LIB(https://github.com/mrjbq7/ta-lib) <br>\n",
    "Usunę również początkowe kolumny, by nasze przewidywania opierać tylko i wyłącznie na tych wskaźnikach.<br>\n",
    "Jako zmienną celu wezmę zwrot w przeciągu 1, 3 i 5 dni."
   ]
  },
  {
   "cell_type": "code",
   "execution_count": 1,
   "metadata": {
    "ExecuteTime": {
     "end_time": "2017-11-29T18:45:23.028149Z",
     "start_time": "2017-11-29T18:45:22.955225Z"
    },
    "collapsed": true,
    "hide_input": false
   },
   "outputs": [],
   "source": [
    "def addTechnicalFeatures(df):\n",
    "    df['Data'] = pd.to_datetime(df['Data'])\n",
    "    df.columns = ['Data', 'Open','High', 'Low', 'Close', 'Wol', \"Lop\"]\n",
    "    #Wskazniki analizy technicznej\n",
    "    k, dfast = talib.STOCH(np.array(df['High']),np.array(df['Low']),\n",
    "                           np.array(df['Close'])) # uses high, low, close by default\n",
    "    df['k'] = k\n",
    "    df['dfast'] = dfast\n",
    "    df['dslow'] = talib.SMA(dfast, timeperiod=5)\n",
    "    df['momentum'] = talib.MOM(np.array(df['Close']), timeperiod=4)\n",
    "    df['roc'] = talib.ROC(np.array(df['Close']), timeperiod=5)\n",
    "    df['willR'] = talib.WILLR(np.array(df['High']), np.array(df['Low']),\n",
    "                        np.array(df['Close']), timeperiod = 5)\n",
    "    #ad = talib.ADOSC(np.array(df['High']), np.array(df['Low']),\n",
    "    #                          np.array(df['Close']), np.array(df['Wol']))\n",
    "    df['disp5'] = df['Close'] / talib.SMA(np.array(df['Close']), 5) * 100\n",
    "    df['disp10'] = df['Close'] / talib.SMA(np.array(df['Close']), 10) * 100\n",
    "    df['oscp'] = ((talib.SMA(np.array(df['Close']), 5) - talib.SMA(np.array(df['Close']), 10)) / \n",
    "                                                        talib.SMA(np.array(df['Close']), 5)) \n",
    "    df['rsi'] = talib.RSI(np.array(df['Close']))\n",
    "    df['CCI'] = talib.CCI(np.array(df['High']),np.array(df['Low']), np.array(df['Close']))\n",
    "    #Tworzenie zmiennej celu\n",
    "    df['target1'] = df['Close'].shift(-1) -df['Open']\n",
    "    df['target5'] = df['Close'].shift(-5) -df['Open']\n",
    "    df['target3'] = df['Close'].shift(-3) -df['Open']\n",
    "    #zostawienie tylko zmiennej celu i wskaźników technicznych\n",
    "    df.drop(['Data','Open', 'High', 'Low', 'Close', 'Wol', 'Lop'],axis=1, inplace=True)\n",
    "    return df"
   ]
  },
  {
   "cell_type": "code",
   "execution_count": 2,
   "metadata": {
    "ExecuteTime": {
     "end_time": "2017-11-29T18:45:24.931197Z",
     "start_time": "2017-11-29T18:45:23.029630Z"
    }
   },
   "outputs": [
    {
     "data": {
      "text/html": [
       "<div>\n",
       "<style>\n",
       "    .dataframe thead tr:only-child th {\n",
       "        text-align: right;\n",
       "    }\n",
       "\n",
       "    .dataframe thead th {\n",
       "        text-align: left;\n",
       "    }\n",
       "\n",
       "    .dataframe tbody tr th {\n",
       "        vertical-align: top;\n",
       "    }\n",
       "</style>\n",
       "<table border=\"1\" class=\"dataframe\">\n",
       "  <thead>\n",
       "    <tr style=\"text-align: right;\">\n",
       "      <th></th>\n",
       "      <th>k</th>\n",
       "      <th>dfast</th>\n",
       "      <th>dslow</th>\n",
       "      <th>momentum</th>\n",
       "      <th>roc</th>\n",
       "      <th>willR</th>\n",
       "      <th>disp5</th>\n",
       "      <th>disp10</th>\n",
       "      <th>oscp</th>\n",
       "      <th>rsi</th>\n",
       "      <th>CCI</th>\n",
       "      <th>target1</th>\n",
       "      <th>target5</th>\n",
       "      <th>target3</th>\n",
       "    </tr>\n",
       "  </thead>\n",
       "  <tbody>\n",
       "    <tr>\n",
       "      <th>0</th>\n",
       "      <td>NaN</td>\n",
       "      <td>NaN</td>\n",
       "      <td>NaN</td>\n",
       "      <td>NaN</td>\n",
       "      <td>NaN</td>\n",
       "      <td>NaN</td>\n",
       "      <td>NaN</td>\n",
       "      <td>NaN</td>\n",
       "      <td>NaN</td>\n",
       "      <td>NaN</td>\n",
       "      <td>NaN</td>\n",
       "      <td>39.00</td>\n",
       "      <td>51.75</td>\n",
       "      <td>25.00</td>\n",
       "    </tr>\n",
       "    <tr>\n",
       "      <th>1</th>\n",
       "      <td>NaN</td>\n",
       "      <td>NaN</td>\n",
       "      <td>NaN</td>\n",
       "      <td>NaN</td>\n",
       "      <td>NaN</td>\n",
       "      <td>NaN</td>\n",
       "      <td>NaN</td>\n",
       "      <td>NaN</td>\n",
       "      <td>NaN</td>\n",
       "      <td>NaN</td>\n",
       "      <td>NaN</td>\n",
       "      <td>-13.75</td>\n",
       "      <td>-28.50</td>\n",
       "      <td>36.75</td>\n",
       "    </tr>\n",
       "    <tr>\n",
       "      <th>2</th>\n",
       "      <td>NaN</td>\n",
       "      <td>NaN</td>\n",
       "      <td>NaN</td>\n",
       "      <td>NaN</td>\n",
       "      <td>NaN</td>\n",
       "      <td>NaN</td>\n",
       "      <td>NaN</td>\n",
       "      <td>NaN</td>\n",
       "      <td>NaN</td>\n",
       "      <td>NaN</td>\n",
       "      <td>NaN</td>\n",
       "      <td>-14.50</td>\n",
       "      <td>22.75</td>\n",
       "      <td>12.25</td>\n",
       "    </tr>\n",
       "    <tr>\n",
       "      <th>3</th>\n",
       "      <td>NaN</td>\n",
       "      <td>NaN</td>\n",
       "      <td>NaN</td>\n",
       "      <td>NaN</td>\n",
       "      <td>NaN</td>\n",
       "      <td>NaN</td>\n",
       "      <td>NaN</td>\n",
       "      <td>NaN</td>\n",
       "      <td>NaN</td>\n",
       "      <td>NaN</td>\n",
       "      <td>NaN</td>\n",
       "      <td>51.50</td>\n",
       "      <td>44.50</td>\n",
       "      <td>-13.75</td>\n",
       "    </tr>\n",
       "    <tr>\n",
       "      <th>4</th>\n",
       "      <td>NaN</td>\n",
       "      <td>NaN</td>\n",
       "      <td>NaN</td>\n",
       "      <td>36.25</td>\n",
       "      <td>NaN</td>\n",
       "      <td>-1.694915</td>\n",
       "      <td>103.852512</td>\n",
       "      <td>NaN</td>\n",
       "      <td>NaN</td>\n",
       "      <td>NaN</td>\n",
       "      <td>NaN</td>\n",
       "      <td>-4.50</td>\n",
       "      <td>28.00</td>\n",
       "      <td>6.00</td>\n",
       "    </tr>\n",
       "  </tbody>\n",
       "</table>\n",
       "</div>"
      ],
      "text/plain": [
       "    k  dfast  dslow  momentum  roc     willR       disp5  disp10  oscp  rsi  \\\n",
       "0 NaN    NaN    NaN       NaN  NaN       NaN         NaN     NaN   NaN  NaN   \n",
       "1 NaN    NaN    NaN       NaN  NaN       NaN         NaN     NaN   NaN  NaN   \n",
       "2 NaN    NaN    NaN       NaN  NaN       NaN         NaN     NaN   NaN  NaN   \n",
       "3 NaN    NaN    NaN       NaN  NaN       NaN         NaN     NaN   NaN  NaN   \n",
       "4 NaN    NaN    NaN     36.25  NaN -1.694915  103.852512     NaN   NaN  NaN   \n",
       "\n",
       "   CCI  target1  target5  target3  \n",
       "0  NaN    39.00    51.75    25.00  \n",
       "1  NaN   -13.75   -28.50    36.75  \n",
       "2  NaN   -14.50    22.75    12.25  \n",
       "3  NaN    51.50    44.50   -13.75  \n",
       "4  NaN    -4.50    28.00     6.00  "
      ]
     },
     "execution_count": 2,
     "metadata": {},
     "output_type": "execute_result"
    }
   ],
   "source": [
    "import pandas as pd\n",
    "import numpy as np\n",
    "import talib\n",
    "import matplotlib.pyplot as plt\n",
    "df = pd.read_csv(\"/home/olaf/Finanse/es_f_d.csv\")\n",
    "price = df['Otwarcie']\n",
    "df = addTechnicalFeatures(df)\n",
    "df.head()"
   ]
  },
  {
   "cell_type": "markdown",
   "metadata": {},
   "source": [
    "Jak widać w stworzenj bazie na początku mamy dużo NaNów, ponieważ często wskaźniki wykorzystują średnie z kilku ostatnich dni, co powoduje że dla pierwszych rekordów nie da się ich policzyć. Możemy je usunąc, gdyż nie wpłynie to znacząco na rozmiar bazy."
   ]
  },
  {
   "cell_type": "code",
   "execution_count": 3,
   "metadata": {
    "ExecuteTime": {
     "end_time": "2017-11-29T18:45:24.939962Z",
     "start_time": "2017-11-29T18:45:24.934598Z"
    },
    "collapsed": true
   },
   "outputs": [],
   "source": [
    "df.dropna(inplace=True, axis = 0)"
   ]
  },
  {
   "cell_type": "code",
   "execution_count": 4,
   "metadata": {
    "ExecuteTime": {
     "end_time": "2017-11-29T18:45:25.030137Z",
     "start_time": "2017-11-29T18:45:24.941405Z"
    }
   },
   "outputs": [
    {
     "data": {
      "text/html": [
       "<div>\n",
       "<style>\n",
       "    .dataframe thead tr:only-child th {\n",
       "        text-align: right;\n",
       "    }\n",
       "\n",
       "    .dataframe thead th {\n",
       "        text-align: left;\n",
       "    }\n",
       "\n",
       "    .dataframe tbody tr th {\n",
       "        vertical-align: top;\n",
       "    }\n",
       "</style>\n",
       "<table border=\"1\" class=\"dataframe\">\n",
       "  <thead>\n",
       "    <tr style=\"text-align: right;\">\n",
       "      <th></th>\n",
       "      <th>k</th>\n",
       "      <th>dfast</th>\n",
       "      <th>dslow</th>\n",
       "      <th>momentum</th>\n",
       "      <th>roc</th>\n",
       "      <th>willR</th>\n",
       "      <th>disp5</th>\n",
       "      <th>disp10</th>\n",
       "      <th>oscp</th>\n",
       "      <th>rsi</th>\n",
       "      <th>CCI</th>\n",
       "      <th>target1</th>\n",
       "      <th>target5</th>\n",
       "      <th>target3</th>\n",
       "    </tr>\n",
       "  </thead>\n",
       "  <tbody>\n",
       "    <tr>\n",
       "      <th>14</th>\n",
       "      <td>53.658048</td>\n",
       "      <td>59.837736</td>\n",
       "      <td>76.084719</td>\n",
       "      <td>-10.00</td>\n",
       "      <td>0.217181</td>\n",
       "      <td>-35.146444</td>\n",
       "      <td>100.251050</td>\n",
       "      <td>101.465917</td>\n",
       "      <td>0.011973</td>\n",
       "      <td>57.480315</td>\n",
       "      <td>76.784678</td>\n",
       "      <td>48.00</td>\n",
       "      <td>27.00</td>\n",
       "      <td>20.00</td>\n",
       "    </tr>\n",
       "    <tr>\n",
       "      <th>15</th>\n",
       "      <td>72.803347</td>\n",
       "      <td>60.625359</td>\n",
       "      <td>72.555658</td>\n",
       "      <td>50.00</td>\n",
       "      <td>2.933461</td>\n",
       "      <td>-0.000000</td>\n",
       "      <td>103.570743</td>\n",
       "      <td>104.675980</td>\n",
       "      <td>0.010559</td>\n",
       "      <td>63.744351</td>\n",
       "      <td>140.459161</td>\n",
       "      <td>14.25</td>\n",
       "      <td>-13.25</td>\n",
       "      <td>24.00</td>\n",
       "    </tr>\n",
       "    <tr>\n",
       "      <th>16</th>\n",
       "      <td>77.105032</td>\n",
       "      <td>67.855476</td>\n",
       "      <td>68.572686</td>\n",
       "      <td>22.25</td>\n",
       "      <td>2.380952</td>\n",
       "      <td>-33.538462</td>\n",
       "      <td>100.649661</td>\n",
       "      <td>101.393133</td>\n",
       "      <td>0.007333</td>\n",
       "      <td>57.987369</td>\n",
       "      <td>116.365914</td>\n",
       "      <td>-27.00</td>\n",
       "      <td>-82.50</td>\n",
       "      <td>-20.00</td>\n",
       "    </tr>\n",
       "    <tr>\n",
       "      <th>17</th>\n",
       "      <td>76.615385</td>\n",
       "      <td>75.507921</td>\n",
       "      <td>66.981654</td>\n",
       "      <td>19.50</td>\n",
       "      <td>1.915152</td>\n",
       "      <td>-36.615385</td>\n",
       "      <td>100.033313</td>\n",
       "      <td>100.793594</td>\n",
       "      <td>0.007543</td>\n",
       "      <td>57.439661</td>\n",
       "      <td>78.289474</td>\n",
       "      <td>10.25</td>\n",
       "      <td>-40.25</td>\n",
       "      <td>-27.00</td>\n",
       "    </tr>\n",
       "    <tr>\n",
       "      <th>18</th>\n",
       "      <td>65.064229</td>\n",
       "      <td>72.928215</td>\n",
       "      <td>67.350942</td>\n",
       "      <td>25.00</td>\n",
       "      <td>3.078042</td>\n",
       "      <td>-34.653465</td>\n",
       "      <td>100.591296</td>\n",
       "      <td>101.639423</td>\n",
       "      <td>0.010312</td>\n",
       "      <td>59.460249</td>\n",
       "      <td>108.673978</td>\n",
       "      <td>7.75</td>\n",
       "      <td>-50.75</td>\n",
       "      <td>-54.75</td>\n",
       "    </tr>\n",
       "  </tbody>\n",
       "</table>\n",
       "</div>"
      ],
      "text/plain": [
       "            k      dfast      dslow  momentum       roc      willR  \\\n",
       "14  53.658048  59.837736  76.084719    -10.00  0.217181 -35.146444   \n",
       "15  72.803347  60.625359  72.555658     50.00  2.933461  -0.000000   \n",
       "16  77.105032  67.855476  68.572686     22.25  2.380952 -33.538462   \n",
       "17  76.615385  75.507921  66.981654     19.50  1.915152 -36.615385   \n",
       "18  65.064229  72.928215  67.350942     25.00  3.078042 -34.653465   \n",
       "\n",
       "         disp5      disp10      oscp        rsi         CCI  target1  target5  \\\n",
       "14  100.251050  101.465917  0.011973  57.480315   76.784678    48.00    27.00   \n",
       "15  103.570743  104.675980  0.010559  63.744351  140.459161    14.25   -13.25   \n",
       "16  100.649661  101.393133  0.007333  57.987369  116.365914   -27.00   -82.50   \n",
       "17  100.033313  100.793594  0.007543  57.439661   78.289474    10.25   -40.25   \n",
       "18  100.591296  101.639423  0.010312  59.460249  108.673978     7.75   -50.75   \n",
       "\n",
       "    target3  \n",
       "14    20.00  \n",
       "15    24.00  \n",
       "16   -20.00  \n",
       "17   -27.00  \n",
       "18   -54.75  "
      ]
     },
     "execution_count": 4,
     "metadata": {},
     "output_type": "execute_result"
    }
   ],
   "source": [
    "df.head()"
   ]
  },
  {
   "cell_type": "markdown",
   "metadata": {
    "ExecuteTime": {
     "end_time": "2017-11-26T18:30:22.584075Z",
     "start_time": "2017-11-26T18:30:22.581894Z"
    }
   },
   "source": [
    "Pozostaje jeszcze znormalizować dane."
   ]
  },
  {
   "cell_type": "code",
   "execution_count": 5,
   "metadata": {
    "ExecuteTime": {
     "end_time": "2017-11-29T18:45:25.425908Z",
     "start_time": "2017-11-29T18:45:25.031789Z"
    },
    "collapsed": true
   },
   "outputs": [],
   "source": [
    "from sklearn.preprocessing import MinMaxScaler\n",
    "X = df.drop(['target1','target3','target5'], axis=1)\n",
    "scaler = MinMaxScaler()\n",
    "X = scaler.fit_transform(X)"
   ]
  },
  {
   "cell_type": "code",
   "execution_count": 59,
   "metadata": {
    "ExecuteTime": {
     "end_time": "2017-11-29T19:11:39.426601Z",
     "start_time": "2017-11-29T19:11:39.323384Z"
    }
   },
   "outputs": [],
   "source": [
    "pd.DataFrame(X).to_csv(\"daneAT.csv\")\n",
    "pd.DataFrame(df['target5']).to_csv('target.csv')"
   ]
  },
  {
   "cell_type": "code",
   "execution_count": null,
   "metadata": {
    "collapsed": true
   },
   "outputs": [],
   "source": []
  },
  {
   "cell_type": "markdown",
   "metadata": {},
   "source": [
    "Podział na dane trenignowe i testowe"
   ]
  },
  {
   "cell_type": "code",
   "execution_count": 6,
   "metadata": {
    "ExecuteTime": {
     "end_time": "2017-11-29T18:45:25.438419Z",
     "start_time": "2017-11-29T18:45:25.427696Z"
    },
    "collapsed": true
   },
   "outputs": [],
   "source": [
    "X_train = X[:-800]\n",
    "X_test = X[-800:]\n",
    "y1_train = df['target1'][:-800]\n",
    "y1_test = df['target1'][-800:]\n",
    "y3_train = df['target3'][:-800]\n",
    "y3_test = df['target3'][-800:]\n",
    "y5_train = df['target5'][:-800]\n",
    "y5_test = df['target5'][-800:]"
   ]
  },
  {
   "cell_type": "markdown",
   "metadata": {},
   "source": [
    "## 4.Modelowanie"
   ]
  },
  {
   "cell_type": "markdown",
   "metadata": {},
   "source": [
    "Kluczowym pytaniem podczas modelowania jest odpowiedź na pytanie jak będziemy mierzyć jakość naszych modeli. Według mnie najlepszym pomysłem jest stworzenie krzywej średniego zwrotu inwestycji na osi y oraz odsetek inwestycji na osi x zależnie od wybranego poziomu odcięcia."
   ]
  },
  {
   "cell_type": "markdown",
   "metadata": {},
   "source": [
    "## 4.1 Wybór modeli\n",
    "W naszej analizie wypróbuje model SVM, Random Forest i XGboost. Dodatkowo sprawdzę jak każdy model radzi sobie na różnych zmiennych celu(przewidywanie 1, 3 i 5 dni do przodu)."
   ]
  },
  {
   "cell_type": "markdown",
   "metadata": {},
   "source": [
    "Jako że dane mają charakter czasowy to próbkę podzieliłem ze względu na datę. Ostatnie 800 obserwacji(jakieś 3 lata) będzie danymi testowymi."
   ]
  },
  {
   "cell_type": "markdown",
   "metadata": {},
   "source": [
    "Napiszmy funkcję liczącą metrykę by móc potem łatwo porownywać modele."
   ]
  },
  {
   "cell_type": "code",
   "execution_count": 43,
   "metadata": {
    "ExecuteTime": {
     "end_time": "2017-11-29T18:52:30.053508Z",
     "start_time": "2017-11-29T18:52:30.026475Z"
    },
    "collapsed": true
   },
   "outputs": [],
   "source": [
    "from sklearn.metrics import auc\n",
    "def meanReturnCurve(y_true, y_pred):\n",
    "    thresholds = np.unique(y_pred)\n",
    "    meanReturn = []\n",
    "    percent = []\n",
    "    for thresh in thresholds:\n",
    "        meanReturn.append(np.mean(y_true[y_pred >= thresh]))\n",
    "        percent.append(sum(y_pred >= thresh)/len(y_pred))\n",
    "    return auc(percent, meanReturn)\n",
    "\n",
    "def plotMeanReturnCurve(y_true, y_pred, **kwargs):\n",
    "    thresholds = np.unique(y_pred)\n",
    "    meanReturn = []\n",
    "    percent = []\n",
    "    for thresh in thresholds:\n",
    "        meanReturn.append(np.mean(y_true[y_pred >= thresh]))\n",
    "        percent.append(sum(y_pred >= thresh)/len(y_pred))\n",
    "    return plt.plot(percent, meanReturn, **kwargs)\n",
    "\n"
   ]
  },
  {
   "cell_type": "markdown",
   "metadata": {},
   "source": [
    "## 4.2 Modelowanie"
   ]
  },
  {
   "cell_type": "markdown",
   "metadata": {},
   "source": [
    "### 4.1 SVM, RF i XGBoost "
   ]
  },
  {
   "cell_type": "markdown",
   "metadata": {
    "ExecuteTime": {
     "end_time": "2017-11-29T18:55:31.857296Z",
     "start_time": "2017-11-29T18:55:31.851293Z"
    }
   },
   "source": [
    "Poniżej porównamy wyniki SVM, Random Forest i XGBoost w przewidywaniu zwrotu w przeciągu 5 dni od zakupu futursa. "
   ]
  },
  {
   "cell_type": "code",
   "execution_count": 60,
   "metadata": {
    "ExecuteTime": {
     "end_time": "2017-11-29T19:23:32.675827Z",
     "start_time": "2017-11-29T19:23:32.673349Z"
    },
    "collapsed": true
   },
   "outputs": [],
   "source": [
    "from sklearn.svm import SVR\n",
    "svr = SVR(kernel=\"linear\")"
   ]
  },
  {
   "cell_type": "code",
   "execution_count": 61,
   "metadata": {
    "ExecuteTime": {
     "end_time": "2017-11-29T19:23:34.095690Z",
     "start_time": "2017-11-29T19:23:33.400269Z"
    }
   },
   "outputs": [
    {
     "data": {
      "text/plain": [
       "SVR(C=1.0, cache_size=200, coef0=0.0, degree=3, epsilon=0.1, gamma='auto',\n",
       "  kernel='linear', max_iter=-1, shrinking=True, tol=0.001, verbose=False)"
      ]
     },
     "execution_count": 61,
     "metadata": {},
     "output_type": "execute_result"
    }
   ],
   "source": [
    "svr.fit(X_train, y1_train)"
   ]
  },
  {
   "cell_type": "code",
   "execution_count": 49,
   "metadata": {
    "ExecuteTime": {
     "end_time": "2017-11-29T18:55:37.812517Z",
     "start_time": "2017-11-29T18:55:37.797384Z"
    },
    "collapsed": true
   },
   "outputs": [],
   "source": [
    "from sklearn.ensemble import RandomForestRegressor\n",
    "rf = RandomForestRegressor(n_estimators=100, max_depth = 4)"
   ]
  },
  {
   "cell_type": "code",
   "execution_count": 50,
   "metadata": {
    "ExecuteTime": {
     "end_time": "2017-11-29T18:55:38.466040Z",
     "start_time": "2017-11-29T18:55:38.453748Z"
    }
   },
   "outputs": [],
   "source": [
    "from xgboost import XGBRegressor\n",
    "xgb = XGBRegressor(n_estimators=100, colsample_bytree=0.7)"
   ]
  },
  {
   "cell_type": "code",
   "execution_count": 62,
   "metadata": {
    "ExecuteTime": {
     "end_time": "2017-11-29T19:23:36.299079Z",
     "start_time": "2017-11-29T19:23:35.607674Z"
    }
   },
   "outputs": [
    {
     "data": {
      "text/plain": [
       "SVR(C=1.0, cache_size=200, coef0=0.0, degree=3, epsilon=0.1, gamma='auto',\n",
       "  kernel='linear', max_iter=-1, shrinking=True, tol=0.001, verbose=False)"
      ]
     },
     "execution_count": 62,
     "metadata": {},
     "output_type": "execute_result"
    }
   ],
   "source": [
    "svr.fit(X_train, y5_train)"
   ]
  },
  {
   "cell_type": "code",
   "execution_count": 63,
   "metadata": {
    "ExecuteTime": {
     "end_time": "2017-11-29T19:23:40.774438Z",
     "start_time": "2017-11-29T19:23:37.899755Z"
    }
   },
   "outputs": [
    {
     "data": {
      "text/plain": [
       "14.91826231041393"
      ]
     },
     "execution_count": 63,
     "metadata": {},
     "output_type": "execute_result"
    }
   ],
   "source": [
    "meanReturnCurve(y5_test, svr.predict(X_test))"
   ]
  },
  {
   "cell_type": "code",
   "execution_count": 53,
   "metadata": {
    "ExecuteTime": {
     "end_time": "2017-11-29T18:55:45.864936Z",
     "start_time": "2017-11-29T18:55:44.769415Z"
    }
   },
   "outputs": [
    {
     "data": {
      "text/plain": [
       "RandomForestRegressor(bootstrap=True, criterion='mse', max_depth=4,\n",
       "           max_features='auto', max_leaf_nodes=None,\n",
       "           min_impurity_decrease=0.0, min_impurity_split=None,\n",
       "           min_samples_leaf=1, min_samples_split=2,\n",
       "           min_weight_fraction_leaf=0.0, n_estimators=100, n_jobs=1,\n",
       "           oob_score=False, random_state=None, verbose=0, warm_start=False)"
      ]
     },
     "execution_count": 53,
     "metadata": {},
     "output_type": "execute_result"
    }
   ],
   "source": [
    "rf.fit(X_train, y5_train)"
   ]
  },
  {
   "cell_type": "code",
   "execution_count": 54,
   "metadata": {
    "ExecuteTime": {
     "end_time": "2017-11-29T18:55:49.174979Z",
     "start_time": "2017-11-29T18:55:46.012944Z"
    }
   },
   "outputs": [
    {
     "data": {
      "text/plain": [
       "16.719459642687784"
      ]
     },
     "execution_count": 54,
     "metadata": {},
     "output_type": "execute_result"
    }
   ],
   "source": [
    "meanReturnCurve(y5_test, rf.predict(X_test))"
   ]
  },
  {
   "cell_type": "code",
   "execution_count": 55,
   "metadata": {
    "ExecuteTime": {
     "end_time": "2017-11-29T18:55:50.020372Z",
     "start_time": "2017-11-29T18:55:49.385526Z"
    }
   },
   "outputs": [
    {
     "data": {
      "text/plain": [
       "XGBRegressor(base_score=0.5, colsample_bylevel=1, colsample_bytree=0.7,\n",
       "       gamma=0, learning_rate=0.1, max_delta_step=0, max_depth=3,\n",
       "       min_child_weight=1, missing=None, n_estimators=100, nthread=-1,\n",
       "       objective='reg:linear', reg_alpha=0, reg_lambda=1,\n",
       "       scale_pos_weight=1, seed=0, silent=True, subsample=1)"
      ]
     },
     "execution_count": 55,
     "metadata": {},
     "output_type": "execute_result"
    }
   ],
   "source": [
    "xgb.fit(X_train, y5_train)"
   ]
  },
  {
   "cell_type": "code",
   "execution_count": 56,
   "metadata": {
    "ExecuteTime": {
     "end_time": "2017-11-29T18:55:53.473682Z",
     "start_time": "2017-11-29T18:55:50.275592Z"
    }
   },
   "outputs": [
    {
     "data": {
      "text/plain": [
       "16.196305177768732"
      ]
     },
     "execution_count": 56,
     "metadata": {},
     "output_type": "execute_result"
    }
   ],
   "source": [
    "meanReturnCurve(y5_test, xgb.predict(X_test))"
   ]
  },
  {
   "cell_type": "markdown",
   "metadata": {},
   "source": [
    "Według naszej miary najlepiej wypada XGBoost i Random Forest. Jednak jest to robione bez optymalizacji hiper parametrów, więc dużo się może jeszcze zmienić."
   ]
  },
  {
   "cell_type": "markdown",
   "metadata": {},
   "source": [
    "# 5. Analiza modelu"
   ]
  },
  {
   "cell_type": "markdown",
   "metadata": {
    "ExecuteTime": {
     "end_time": "2017-11-26T19:42:38.336382Z",
     "start_time": "2017-11-26T19:42:38.330035Z"
    }
   },
   "source": [
    "Sprawdźmy jak wygląda wykres średniego zwrotu od procentu inwestycji. Do tego skorzystamy plotMeanReturnCurve"
   ]
  },
  {
   "cell_type": "code",
   "execution_count": 64,
   "metadata": {
    "ExecuteTime": {
     "end_time": "2017-11-29T19:23:56.789541Z",
     "start_time": "2017-11-29T19:23:45.802781Z"
    }
   },
   "outputs": [
    {
     "data": {
      "image/png": "[encoded data removed]",
      "text/plain": [
       "<matplotlib.figure.Figure at 0x7ff6d5c37a20>"
      ]
     },
     "metadata": {},
     "output_type": "display_data"
    }
   ],
   "source": [
    "plotMeanReturnCurve(y5_test, svr.predict(X_test), color=\"green\")\n",
    "plotMeanReturnCurve(y5_test, xgb.predict(X_test), color=\"red\")\n",
    "plotMeanReturnCurve(y5_test, rf.predict(X_test), color=\"blue\")\n",
    "plt.ylim(0,40)\n",
    "plt.xlim(0.1, 1)\n",
    "plt.show()"
   ]
  },
  {
   "cell_type": "markdown",
   "metadata": {},
   "source": [
    "Wykres pokazuje że gdy nasz model wybiera coraz mniej największych zwrot to średni zwrot rośnie. Pokazuje to, że im większa predykcja modelu tym większy potencialny zwrot z inwestycji. Przy wybieraniu 20% największych zwrotów z modelu średni zwrot z inwestycji wynosi około 20 punktów. <br>\n",
    "Policzmy dla jakiej wartości to dokładnie wynosi i ile uzyskujemy poprawy od pasywnego inwestowania."
   ]
  },
  {
   "cell_type": "code",
   "execution_count": 30,
   "metadata": {
    "ExecuteTime": {
     "end_time": "2017-11-29T18:46:27.613944Z",
     "start_time": "2017-11-29T18:46:27.398074Z"
    },
    "collapsed": true
   },
   "outputs": [],
   "source": [
    "y_pred = svr.predict(X_test)"
   ]
  },
  {
   "cell_type": "code",
   "execution_count": 31,
   "metadata": {
    "ExecuteTime": {
     "end_time": "2017-11-29T18:46:27.621298Z",
     "start_time": "2017-11-29T18:46:27.616110Z"
    }
   },
   "outputs": [
    {
     "name": "stdout",
     "output_type": "stream",
     "text": [
      "80 percentyl przewidywanych zwrotów wynosi:  7.26719358598\n"
     ]
    }
   ],
   "source": [
    "c = np.percentile(y_pred, 80)\n",
    "print(\"80 percentyl przewidywanych zwrotów wynosi: \",c)"
   ]
  },
  {
   "cell_type": "code",
   "execution_count": 36,
   "metadata": {
    "ExecuteTime": {
     "end_time": "2017-11-29T18:50:27.549015Z",
     "start_time": "2017-11-29T18:50:27.542520Z"
    }
   },
   "outputs": [
    {
     "name": "stdout",
     "output_type": "stream",
     "text": [
      "Inwestując pasywnie osiągamy zwrot 5.41, a z naszym modelem średnia wynosi 17.27\n"
     ]
    }
   ],
   "source": [
    "print(\"Inwestując pasywnie osiągamy zwrot %.2f, a z naszym modelem średnia wynosi %.2f\" % \n",
    "     (y5_test.mean(), y5_test[y_pred > 7.26].mean()))"
   ]
  },
  {
   "cell_type": "markdown",
   "metadata": {},
   "source": [
    "Jak widać jest to różnica która jest dość istotna co oznacza, że modelowanie danych inwestycyjnych przy pomocy analizy techinczej i modeli ma sens. <br>\n",
    "Można również spróbować zwiększyć moc modelu przy pomocy szukania optymalnych parametrów naszych modeli czy testowania na różnych instrumentach finansowych."
   ]
  },
  {
   "cell_type": "markdown",
   "metadata": {},
   "source": [
    "Jeszcze sprawdźmy kiedy model podejmuje decyzje inwestycjne, tzn. zaznaczmy na wykresie ceny punkty, w których model powiedziałby \"kup tutaj!\"(y_pred > 4.14) w ciągu ostatych 300 dni roboczych i histogram rozkładu zysków z modelu."
   ]
  },
  {
   "cell_type": "code",
   "execution_count": 37,
   "metadata": {
    "ExecuteTime": {
     "end_time": "2017-11-29T18:50:34.471606Z",
     "start_time": "2017-11-29T18:50:34.467253Z"
    },
    "collapsed": true
   },
   "outputs": [],
   "source": [
    "col = y5_test[-800:-500][y_pred[-800:-500] > 7.26] > 0"
   ]
  },
  {
   "cell_type": "code",
   "execution_count": 40,
   "metadata": {
    "ExecuteTime": {
     "end_time": "2017-11-29T18:50:55.944436Z",
     "start_time": "2017-11-29T18:50:55.730224Z"
    }
   },
   "outputs": [
    {
     "data": {
      "image/png": "[encoded data removed]",
      "text/plain": [
       "<matplotlib.figure.Figure at 0x7ff6ce87cda0>"
      ]
     },
     "metadata": {},
     "output_type": "display_data"
    }
   ],
   "source": [
    "markers = np.where(y_pred[-800:-500] > 7.26)\n",
    "plt.figure(figsize=(15,10))\n",
    "plt.plot(range(300), price[-805:-505])\n",
    "zplt.scatter(markers, price[-805:-505][y_pred[-800:-500] > 7.26], c=col)\n",
    "plt.show()"
   ]
  },
  {
   "cell_type": "markdown",
   "metadata": {},
   "source": [
    "Żółtymi kropkami zaznaczamy inwestycje z których zwrot był większy niż 0, a niebieskimi te które okazały się nie trafione. <br>\n",
    "Z wykresu możemy dojrzeć, że model często wybiera punkty obok siebie, co oznacza że dni inwestycjnę będą się na siebie nakładać. Można to jednak to ograniczenie ominąć otwierając pozycje przy każdej pozytwnej informacji od modelu i posiadanie funduszy na otwarcie naraz kilku pozycji."
   ]
  },
  {
   "cell_type": "code",
   "execution_count": 41,
   "metadata": {
    "ExecuteTime": {
     "end_time": "2017-11-29T18:51:05.948915Z",
     "start_time": "2017-11-29T18:51:05.784613Z"
    }
   },
   "outputs": [
    {
     "data": {
      "image/png": "[encoded data removed]",
      "text/plain": [
       "<matplotlib.figure.Figure at 0x7ff6ce5e9cc0>"
      ]
     },
     "metadata": {},
     "output_type": "display_data"
    }
   ],
   "source": [
    "plt.hist(y5_test[y_pred > 4.14])\n",
    "plt.show()"
   ]
  },
  {
   "cell_type": "markdown",
   "metadata": {},
   "source": [
    "Histogram wyników przypomina(z grubsza) rozkład normlany z średnią 20. By to zweryfikować można przeprowadzić test Sharpiro-Wilka by potem modelować kolejne zwroty z modelu jako ruchy Browna. Ja jednak w dalszej analizię skupię się na poprawieniu modelu, by podkręcić średnie zwrotu z modelu."
   ]
  },
  {
   "cell_type": "markdown",
   "metadata": {},
   "source": [
    "# 6. Podsumowanie\n",
    "Jak widać za pomocą analizy techinczej i metod ML można uzyskać lepsze wyniki niż pasywne inwestowane. Dalszym przedmiotem badań może być próba lepszego modelowania przy optymalizacji parametrów modelu lub używania dodatkowych metod jak np. AutoEnkodery, które są wspomniane w artykule 1 jako coś co poprawia wyniki SVM. Ciekawe jest również jak model radzi sobie na danych na których nie ma tak mocnego trendu wzrostowego jak na danych z indeksów giełdowych"
   ]
  }
 ],
 "metadata": {
  "kernelspec": {
   "display_name": "Python 3",
   "language": "python",
   "name": "python3"
  },
  "language_info": {
   "codemirror_mode": {
    "name": "ipython",
    "version": 3
   },
   "file_extension": ".py",
   "mimetype": "text/x-python",
   "name": "python",
   "nbconvert_exporter": "python",
   "pygments_lexer": "ipython3",
   "version": "3.6.2"
  },
  "varInspector": {
   "cols": {
    "lenName": 16,
    "lenType": 16,
    "lenVar": 40
   },
   "kernels_config": {
    "python": {
     "delete_cmd_postfix": "",
     "delete_cmd_prefix": "del ",
     "library": "var_list.py",
     "varRefreshCmd": "print(var_dic_list())"
    },
    "r": {
     "delete_cmd_postfix": ") ",
     "delete_cmd_prefix": "rm(",
     "library": "var_list.r",
     "varRefreshCmd": "cat(var_dic_list()) "
    }
   },
   "position": {
    "height": "586px",
    "left": "1185px",
    "right": "61px",
    "top": "72px",
    "width": "354px"
   },
   "types_to_exclude": [
    "module",
    "function",
    "builtin_function_or_method",
    "instance",
    "_Feature"
   ],
   "window_display": false
  }
 },
 "nbformat": 4,
 "nbformat_minor": 2
}
