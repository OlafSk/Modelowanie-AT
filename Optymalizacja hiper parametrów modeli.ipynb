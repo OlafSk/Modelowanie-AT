{
 "cells": [
  {
   "cell_type": "markdown",
   "metadata": {},
   "source": [
    "# Optymalizacja"
   ]
  },
  {
   "cell_type": "markdown",
   "metadata": {},
   "source": [
    "W tym notebooku postaram się znaleźć optymalne parametry modeli, tak by móc lepiej je porównywać. Preprocessing danych oraz definicja funkcji mierzącej jakość modeli."
   ]
  },
  {
   "cell_type": "code",
   "execution_count": 2,
   "metadata": {
    "ExecuteTime": {
     "end_time": "2017-11-29T19:03:08.147094Z",
     "start_time": "2017-11-29T19:03:07.836957Z"
    },
    "collapsed": true
   },
   "outputs": [],
   "source": [
    "import pandas as pd\n",
    "import numpy as np"
   ]
  },
  {
   "cell_type": "code",
   "execution_count": 23,
   "metadata": {
    "ExecuteTime": {
     "end_time": "2017-11-29T19:16:49.382177Z",
     "start_time": "2017-11-29T19:16:49.363282Z"
    },
    "collapsed": true
   },
   "outputs": [],
   "source": [
    "X = pd.read_csv(\"daneAT.csv\", index_col = 0)\n",
    "y = pd.read_csv(\"target.csv\", index_col  =0)"
   ]
  },
  {
   "cell_type": "code",
   "execution_count": 7,
   "metadata": {
    "ExecuteTime": {
     "end_time": "2017-11-29T19:12:41.601473Z",
     "start_time": "2017-11-29T19:12:41.259226Z"
    },
    "collapsed": true
   },
   "outputs": [],
   "source": [
    "from sklearn.metrics import auc\n",
    "def meanReturnCurve(y_true, y_pred):\n",
    "    thresholds = np.unique(y_pred)\n",
    "    meanReturn = []\n",
    "    percent = []\n",
    "    for thresh in thresholds:\n",
    "        meanReturn.append(np.mean(y_true[y_pred >= thresh]))\n",
    "        percent.append(sum(y_pred >= thresh)/len(y_pred))\n",
    "    return auc(percent, meanReturn)"
   ]
  },
  {
   "cell_type": "code",
   "execution_count": 11,
   "metadata": {
    "ExecuteTime": {
     "end_time": "2017-11-29T19:13:46.108194Z",
     "start_time": "2017-11-29T19:13:46.104851Z"
    },
    "collapsed": true
   },
   "outputs": [],
   "source": [
    "from sklearn.model_selection import GridSearchCV\n",
    "from sklearn.svm import SVR\n",
    "from sklearn.ensemble import RandomForestRegressor\n",
    "from xgboost import XGBRegressor\n",
    "from sklearn.metrics import make_scorer"
   ]
  },
  {
   "cell_type": "code",
   "execution_count": 12,
   "metadata": {
    "ExecuteTime": {
     "end_time": "2017-11-29T19:14:05.774853Z",
     "start_time": "2017-11-29T19:14:05.772547Z"
    },
    "collapsed": true
   },
   "outputs": [],
   "source": [
    "MRC_score = make_scorer(meanReturnCurve)"
   ]
  },
  {
   "cell_type": "code",
   "execution_count": 15,
   "metadata": {
    "ExecuteTime": {
     "end_time": "2017-11-29T19:15:15.105275Z",
     "start_time": "2017-11-29T19:15:15.102486Z"
    }
   },
   "outputs": [],
   "source": [
    "params = {\"kernel\":['poly','rbf', 'linear'], \"epsilon\":[0.01,0.1,1], \"C\":[0.01,0.1, 1, 10]}"
   ]
  },
  {
   "cell_type": "code",
   "execution_count": 17,
   "metadata": {
    "ExecuteTime": {
     "end_time": "2017-11-29T19:15:41.423876Z",
     "start_time": "2017-11-29T19:15:41.420728Z"
    },
    "collapsed": true
   },
   "outputs": [],
   "source": [
    "gcvSVR = GridSearchCV(SVR(), params, scoring=MRC_score, verbose = 1, cv = 4)"
   ]
  },
  {
   "cell_type": "code",
   "execution_count": null,
   "metadata": {
    "collapsed": true
   },
   "outputs": [],
   "source": [
    "gcvSVR.fit(X,y.values)"
   ]
  },
  {
   "cell_type": "code",
   "execution_count": 26,
   "metadata": {
    "ExecuteTime": {
     "end_time": "2017-11-29T19:22:28.326164Z",
     "start_time": "2017-11-29T19:22:28.321647Z"
    }
   },
   "outputs": [
    {
     "data": {
      "text/plain": [
       "SVR(C=1.0, cache_size=200, coef0=0.0, degree=3, epsilon=0.1, gamma='auto',\n",
       "  kernel='linear', max_iter=-1, shrinking=True, tol=0.001, verbose=False)"
      ]
     },
     "execution_count": 26,
     "metadata": {},
     "output_type": "execute_result"
    }
   ],
   "source": [
    "gcvSVR.best_estimator_"
   ]
  },
  {
   "cell_type": "markdown",
   "metadata": {},
   "source": [
    "Obliczenia wykonywane są w chumrze dzięki Neptune - ML. <br>\n",
    "Poniżej wkleje optymalne parametry każdego z estymatora"
   ]
  },
  {
   "cell_type": "code",
   "execution_count": null,
   "metadata": {
    "collapsed": true
   },
   "outputs": [],
   "source": [
    "paramsRF = {\"max_features\":[0.3,0.5,0.7,0.9,1],\n",
    "           \"max_depth\":[2,3,4,5,6],\n",
    "           \"min_samples_leaf\":[0.01,0.03,0.05,1]}"
   ]
  },
  {
   "cell_type": "code",
   "execution_count": null,
   "metadata": {
    "collapsed": true
   },
   "outputs": [],
   "source": [
    "gcvRF = GridSearchCV(RandomForestRegressor(n_estimators=100),\n",
    "                    params, verbose = 1, cv = 10)"
   ]
  },
  {
   "cell_type": "code",
   "execution_count": null,
   "metadata": {
    "collapsed": true
   },
   "outputs": [],
   "source": [
    "gcvRF.fit(X, y.values)"
   ]
  }
 ],
 "metadata": {
  "kernelspec": {
   "display_name": "Python 3",
   "language": "python",
   "name": "python3"
  },
  "language_info": {
   "codemirror_mode": {
    "name": "ipython",
    "version": 3
   },
   "file_extension": ".py",
   "mimetype": "text/x-python",
   "name": "python",
   "nbconvert_exporter": "python",
   "pygments_lexer": "ipython3",
   "version": "3.6.2"
  },
  "varInspector": {
   "cols": {
    "lenName": 16,
    "lenType": 16,
    "lenVar": 40
   },
   "kernels_config": {
    "python": {
     "delete_cmd_postfix": "",
     "delete_cmd_prefix": "del ",
     "library": "var_list.py",
     "varRefreshCmd": "print(var_dic_list())"
    },
    "r": {
     "delete_cmd_postfix": ") ",
     "delete_cmd_prefix": "rm(",
     "library": "var_list.r",
     "varRefreshCmd": "cat(var_dic_list()) "
    }
   },
   "types_to_exclude": [
    "module",
    "function",
    "builtin_function_or_method",
    "instance",
    "_Feature"
   ],
   "window_display": false
  }
 },
 "nbformat": 4,
 "nbformat_minor": 2
}
